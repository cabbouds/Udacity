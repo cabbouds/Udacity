{
 "cells": [
  {
   "cell_type": "markdown",
   "metadata": {},
   "source": [
    "# Paths in Graphs"
   ]
  },
  {
   "cell_type": "markdown",
   "metadata": {},
   "source": [
    "## Initial Foray"
   ]
  },
  {
   "cell_type": "markdown",
   "metadata": {},
   "source": [
    "Write initials on top of each other, count dots, regions, segments, then add dots and regions and subtract the number of segments."
   ]
  },
  {
   "cell_type": "markdown",
   "metadata": {},
   "source": [
    "I got one."
   ]
  },
  {
   "cell_type": "markdown",
   "metadata": {},
   "source": [
    "This is a planar graph, and we invoked Euler's formula: `n - m + r = 2`, but here we didn't count the giant region outside."
   ]
  },
  {
   "cell_type": "markdown",
   "metadata": {},
   "source": [
    "## Properties of Social Networks"
   ]
  },
  {
   "cell_type": "markdown",
   "metadata": {},
   "source": [
    "Just graphs, but real-world networks. They have some distinctive properties (Watts and others):\n",
    "\n",
    "* \"small worlds\" (short paths) (Stan Milgram experiment - 6 degrees of separation)\n",
    "* \"cliqueish\" (high clustering coefficient)\n",
    "\n",
    "Graphs are \"small world\" if nodes have relatively small degree, but a relatively short path to other arbitrary nodes. "
   ]
  },
  {
   "cell_type": "markdown",
   "metadata": {},
   "source": [
    "Consider\n",
    "\n",
    "               clique      ring        balanced tree    hypercube\n",
    "               deg path    deg path    deg path         deg path\n",
    "    \n",
    "    Theta(1)       *       *           *\n",
    "    Theta(logn)                            *            *   *\n",
    "    Theta(n)   *               *                        "
   ]
  },
  {
   "cell_type": "markdown",
   "metadata": {
    "collapsed": true
   },
   "source": [
    "## Clustering Coefficient"
   ]
  },
  {
   "cell_type": "markdown",
   "metadata": {},
   "source": [
    "`CC(V):` trying to capture \"cliqueishness.\" `v` a node, `K_v` is its degree, `N_v` is the number of links between neighbors of `v`"
   ]
  },
  {
   "cell_type": "markdown",
   "metadata": {},
   "source": [
    "<img src=\"Screen_Shot_2015-12-03_at_6.14.34_PM.png\">"
   ]
  },
  {
   "cell_type": "markdown",
   "metadata": {},
   "source": [
    "We compute:\n",
    "\n",
    "\\begin{equation}\n",
    "CC(V) = \\frac{2 N_v}{K_v (K_v - 1)}\n",
    "\\end{equation}\n",
    "\n",
    "Here, `(2*1)/(4*3) = 1/6`.\n",
    "\n",
    "This represents the _fraction of possible interconnections_. $0 \\leq CC(V) \\leq 1$. If $CC(V) = 0$, we have a star graph, and if $CC(V) = 1$, we have a clique graph.\n",
    "\n",
    "Note that $K_v (K_v - 1)/2$ is the maximum number of pairs we can form between $K_v$ items."
   ]
  },
  {
   "cell_type": "markdown",
   "metadata": {},
   "source": [
    "The clustering coefficient for a _graph_ is the _average_ of the clustering coefficent of all the nodes."
   ]
  },
  {
   "cell_type": "markdown",
   "metadata": {},
   "source": [
    "### Quiz"
   ]
  },
  {
   "cell_type": "markdown",
   "metadata": {},
   "source": [
    "<img src=\"Screen_Shot_2015-12-03_at_6.21.51_PM.png\">"
   ]
  },
  {
   "cell_type": "markdown",
   "metadata": {},
   "source": [
    "$K_v = 4$\n",
    "\n",
    "$N_v = 2$\n",
    "\n",
    "$2(N_v)/(K_v (K_v - 1)) = 4/12 = 1/3$\n",
    "\n",
    "$\\Rightarrow CC(ORD) = 1/3$"
   ]
  },
  {
   "cell_type": "code",
   "execution_count": 1,
   "metadata": {
    "collapsed": false
   },
   "outputs": [
    {
     "name": "stdout",
     "output_type": "stream",
     "text": [
      "{'RDU': {'ATL': 1, 'PHL': 1}, 'PHL': {'RDU': 1, 'PIT': 1, 'PVD': 1}, 'ATL': {'RDU': 1, 'PIT': 1}, 'LAX': {'ORD': 1, 'DFW': 1, 'SEA': 1}, 'PVD': {'PHL': 1}, 'SEA': {'ORD': 1, 'LAX': 1}, 'ORD': {'PIT': 1, 'DFW': 1, 'LAX': 1, 'SEA': 1}, 'PIT': {'ORD': 1, 'ATL': 1, 'PHL': 1}, 'DFW': {'ORD': 1, 'LAX': 1}}\n",
      "0.333333333333\n",
      "0.222222222222\n"
     ]
    }
   ],
   "source": [
    "def make_link(G, node1, node2):\n",
    "    if node1 not in G:\n",
    "        G[node1] = {}\n",
    "    (G[node1])[node2] = 1\n",
    "    if node2 not in G:\n",
    "        G[node2] = {}\n",
    "    (G[node2])[node1] = 1\n",
    "    return G\n",
    "\n",
    "flights = [('ORD', 'SEA'), ('ORD', 'LAX'), ('ORD', 'DFW'), ('ORD', 'PIT'),\n",
    "           ('SEA', 'LAX'), ('LAX', 'DFW'), ('ATL', 'PIT'), ('ATL', 'RDU'),\n",
    "           ('RDU', 'PHL'), ('PIT', 'PHL'), ('PHL', 'PVD')]\n",
    "\n",
    "G = {}\n",
    "for (x, y) in flights:\n",
    "    make_link(G, x, y)\n",
    "\n",
    "print G    \n",
    "    \n",
    "def clustering_coefficient(G, v):\n",
    "    neighbors = G[v].keys()\n",
    "    if len(neighbors) == 1: \n",
    "        return -1.0\n",
    "    links = 0\n",
    "    for w in neighbors:\n",
    "        for u in neighbors:\n",
    "            if u in G[w]: \n",
    "                links += 0.5\n",
    "    return 2.0 * links / (len(neighbors) * (len(neighbors) - 1))\n",
    "\n",
    "# O'Hare's clusterng coefficient\n",
    "print clustering_coefficient(G, \"ORD\")\n",
    "\n",
    "# The average coefficient (the score for the graph)\n",
    "total = 0\n",
    "for v in G.keys():\n",
    "    total += clustering_coefficient(G,v)\n",
    "\n",
    "print total / len(G)"
   ]
  },
  {
   "cell_type": "markdown",
   "metadata": {
    "collapsed": true
   },
   "source": [
    "Social networks often have clustering coefficients of ~0.1."
   ]
  },
  {
   "cell_type": "markdown",
   "metadata": {},
   "source": [
    "## Connected Components"
   ]
  },
  {
   "cell_type": "markdown",
   "metadata": {},
   "source": [
    "* Is everything connected?\n",
    "* Are there isolated sets of nodes?\n",
    "* Can all the nodes communicate?\n",
    "\n",
    "We count \"disconnected components\" as clusters of nodes that can all communicate amongst themselves. So, a graph where all the nodes can communicate has \"1 disconnected component\" (not zero). If there are two clusters, then we say there are \"2 disconnected components,\" etc."
   ]
  },
  {
   "cell_type": "code",
   "execution_count": 2,
   "metadata": {
    "collapsed": true
   },
   "outputs": [],
   "source": [
    "connections = [('a', 'g'), ('a', 'd'), ('d', 'g'), ('g', 'c'),\n",
    "               ('b', 'f'), ('f', 'e'), ('e', 'h')]\n",
    "G = {}\n",
    "for (x, y) in connections:\n",
    "    make_link(G, x, y)"
   ]
  },
  {
   "cell_type": "code",
   "execution_count": 3,
   "metadata": {
    "collapsed": true
   },
   "outputs": [],
   "source": [
    "def mark_component(G, node, marked):\n",
    "    \"\"\"\n",
    "    G is a graph\n",
    "    node is a node (here keyed by a letter)\n",
    "    marked is a dictionary tracking which nodes are marked\n",
    "    \"\"\"\n",
    "    marked[node] = True                                           # once per node\n",
    "    total_marked = 1                                              # once per node\n",
    "    for neighbor in G[node]:\n",
    "        if neighbor not in marked:\n",
    "            total_marked += mark_component(G, neighbor, marked)   # once per edge in the graph\n",
    "    return total_marked                                           # once per node"
   ]
  },
  {
   "cell_type": "code",
   "execution_count": 4,
   "metadata": {
    "collapsed": true
   },
   "outputs": [],
   "source": [
    "def list_component_sizes(G):\n",
    "    \"\"\"\n",
    "    G is a graph\n",
    "    \n",
    "    print the number of connected sub-graphs and the number of nodes in each various\n",
    "    sub-graph\n",
    "    \"\"\"\n",
    "    # make a dictionary to track which nodes we've visited\n",
    "    marked = {}\n",
    "    # loop through all the nodes in the graph\n",
    "    for node in G.keys():\n",
    "        # if we haven't visited the node...\n",
    "        if node not in marked:\n",
    "            # then mark all the nodes connected to it and count the total number of\n",
    "            # nodes in the sub-graph\n",
    "            print \"Component containing\", node, \": \", mark_component(G, node, marked)"
   ]
  },
  {
   "cell_type": "code",
   "execution_count": 5,
   "metadata": {
    "collapsed": false
   },
   "outputs": [
    {
     "name": "stdout",
     "output_type": "stream",
     "text": [
      "Component containing a :  4\n",
      "Component containing b :  4\n"
     ]
    }
   ],
   "source": [
    "list_component_sizes(G)"
   ]
  },
  {
   "cell_type": "markdown",
   "metadata": {},
   "source": [
    "## Running Time of Connected Component Counting"
   ]
  },
  {
   "cell_type": "markdown",
   "metadata": {
    "collapsed": true
   },
   "source": [
    "Two principle flavors:\n",
    "\n",
    "* Depth first search (what we have above - $\\Theta(n + m)$)\n",
    "* Breadth first search\n",
    "\n",
    "`n` nodes and `m` edges."
   ]
  },
  {
   "cell_type": "markdown",
   "metadata": {},
   "source": [
    "## Checking Pairwise Connectivity"
   ]
  },
  {
   "cell_type": "code",
   "execution_count": 6,
   "metadata": {
    "collapsed": true
   },
   "outputs": [],
   "source": [
    "##################################################################\n",
    "# Traversal...\n",
    "# Call this routine on nodes being visited for the first time\n",
    "def mark_component(G, node, marked):\n",
    "    marked[node] = True\n",
    "    total_marked = 1\n",
    "    for neighbor in G[node]:\n",
    "        if neighbor not in marked:\n",
    "            total_marked += mark_component(G, neighbor, marked)\n",
    "    return total_marked\n",
    "\n",
    "def check_connection(G, v1, v2):\n",
    "    marked = {}\n",
    "    n_marked = mark_component(G, v1, marked)\n",
    "    return v2 in marked\n",
    "    \n",
    "def make_link(G, node1, node2):\n",
    "    if node1 not in G:\n",
    "        G[node1] = {}\n",
    "    (G[node1])[node2] = 1\n",
    "    if node2 not in G:\n",
    "        G[node2] = {}\n",
    "    (G[node2])[node1] = 1\n",
    "    return G"
   ]
  },
  {
   "cell_type": "code",
   "execution_count": 7,
   "metadata": {
    "collapsed": true
   },
   "outputs": [],
   "source": [
    "def test():\n",
    "    edges = [('a', 'g'), ('a', 'd'), ('g', 'c'), ('g', 'd'), \n",
    "             ('b', 'f'), ('f', 'e'), ('e', 'h')]\n",
    "    G = {}\n",
    "    for v1, v2 in edges:\n",
    "        make_link(G, v1, v2)\n",
    "        \n",
    "    assert check_connection(G, \"a\", \"c\") == True\n",
    "    assert check_connection(G, 'a', 'b') == False"
   ]
  },
  {
   "cell_type": "code",
   "execution_count": 8,
   "metadata": {
    "collapsed": true
   },
   "outputs": [],
   "source": [
    "test()"
   ]
  },
  {
   "cell_type": "code",
   "execution_count": 9,
   "metadata": {
    "collapsed": false
   },
   "outputs": [
    {
     "data": {
      "text/plain": [
       "True"
      ]
     },
     "execution_count": 9,
     "metadata": {},
     "output_type": "execute_result"
    }
   ],
   "source": [
    "check_connection(G, \"a\", \"c\")"
   ]
  },
  {
   "cell_type": "code",
   "execution_count": 10,
   "metadata": {
    "collapsed": false
   },
   "outputs": [
    {
     "data": {
      "text/plain": [
       "False"
      ]
     },
     "execution_count": 10,
     "metadata": {},
     "output_type": "execute_result"
    }
   ],
   "source": [
    "check_connection(G, \"a\", \"b\")"
   ]
  },
  {
   "cell_type": "code",
   "execution_count": 11,
   "metadata": {
    "collapsed": false
   },
   "outputs": [
    {
     "data": {
      "text/plain": [
       "True"
      ]
     },
     "execution_count": 11,
     "metadata": {},
     "output_type": "execute_result"
    }
   ],
   "source": [
    "check_connection(G, \"a\", \"d\")"
   ]
  },
  {
   "cell_type": "code",
   "execution_count": 12,
   "metadata": {
    "collapsed": false
   },
   "outputs": [
    {
     "data": {
      "text/plain": [
       "True"
      ]
     },
     "execution_count": 12,
     "metadata": {},
     "output_type": "execute_result"
    }
   ],
   "source": [
    "check_connection(G, \"g\", \"d\")"
   ]
  },
  {
   "cell_type": "code",
   "execution_count": 13,
   "metadata": {
    "collapsed": false
   },
   "outputs": [
    {
     "data": {
      "text/plain": [
       "False"
      ]
     },
     "execution_count": 13,
     "metadata": {},
     "output_type": "execute_result"
    }
   ],
   "source": [
    "check_connection(G, \"g\", \"f\")"
   ]
  },
  {
   "cell_type": "markdown",
   "metadata": {},
   "source": [
    "## Pairwise Shortest Path"
   ]
  },
  {
   "cell_type": "markdown",
   "metadata": {},
   "source": [
    "\"The Kevin Bacon Game\"\n",
    "\n",
    "Given `G` and `v1` (Kevin Bacon) and `v2` (Emma Watson), find the shortest path between them."
   ]
  },
  {
   "cell_type": "markdown",
   "metadata": {},
   "source": [
    "## Depth vs. Breadth First Searches"
   ]
  },
  {
   "cell_type": "markdown",
   "metadata": {},
   "source": [
    "Depth first searches, well, go deep first. Breadth first searches exhaust the neighborhood before going very far."
   ]
  },
  {
   "cell_type": "markdown",
   "metadata": {},
   "source": [
    "## Depth First without recursion"
   ]
  },
  {
   "cell_type": "markdown",
   "metadata": {},
   "source": [
    "Open list: \"Todo list\"\n",
    "\n",
    "* Grab _last_ element of open list. (Start with some node at the beginning.)\n",
    "* Mark any unmarked neighbors and add them to open list at the end (and then remove that node from the list).\n",
    "* Repeat until nothing open.\n",
    "\n",
    "As an example:\n",
    "\n",
    "* Consider: `a-b-c-d-e-f-g`\n",
    "* Start with `d` => To-do list is `ce`\n",
    "* Visit `e`, then add un-marked neightbors to the end of the list.\n",
    "    * `a-b-c-d1-e2-f-g` and `cf`\n",
    "* Pull from the end of the todo list, `f`, visit unmarked neighbors, etc.\n",
    "    * `a-b-c-d1-e2-f3-g` and `cg`\n",
    "* Pull from the end of the todo list, `g`, visit unmarked neighbors, etc.\n",
    "    * `a-b-c-d1-e2-f3-g4` and `c`\n",
    "* Pull from the end of the todo list, `c`, visit unmarked neighbors, etc.\n",
    "    * `a-b-c5-d1-e2-f3-g4` and `b`\n",
    "* Pull from the end of the todo list, `b`, visit unmarked neighbors, etc.\n",
    "    * `a-b6-c5-d1-e2-f3-g4` and `a`\n",
    "* Pull from the end of the todo list, `a`, visit unmarked neighbors, etc.\n",
    "    * `a7-b6-c5-d1-e2-f3-g4` and ``\n",
    "* Done."
   ]
  },
  {
   "cell_type": "markdown",
   "metadata": {
    "collapsed": true
   },
   "source": [
    "## Breadth First without recursion"
   ]
  },
  {
   "cell_type": "markdown",
   "metadata": {},
   "source": [
    "Open list: \"Todo list\"\n",
    "\n",
    "* Grab _first_ element of open list. (Start with some node at the beginning.)\n",
    "* Mark any unmarked neighbors and add them to open list at the end (and then remove that node from the list).\n",
    "* Repeat until nothing open.\n",
    "\n",
    "As an example:\n",
    "\n",
    "* Consider `a-b-c-d-e-f-g`\n",
    "* Start with `d`, todo is `ce`\n",
    "    * `a-b-c-d1-e-f-g` and `ce`\n",
    "* Pull from the front of the list, but add open neighbors to the end\n",
    "    * `a-b-c2-d1-e-f-g` and `eb`\n",
    "* Pull from the front of the list, `e`, but add open neighbors to the end\n",
    "    * `a-b-c2-d1-e3-f-g` and `bf`\n",
    "* Pull from the front of the list, `b`, but add open neighbors to the end\n",
    "    * `a-b4-c2-d1-e3-f-g` and `fa`\n",
    "* Pull from the front of the list, `f`, but add open neighbors to the end\n",
    "    * `a-b4-c2-d1-e3-f5-g` and `ag`\n",
    "* Pull from the front of the list, `a`, but add open neighbors to the end\n",
    "    * `a6-b4-c2-d1-e3-f5-g` and `g`\n",
    "* Pull from the front of the list, `g`, but add open neighbors to the end\n",
    "    * `a6-b4-c2-d1-e3-f5-g7` and ``\n",
    "* Done."
   ]
  },
  {
   "cell_type": "markdown",
   "metadata": {},
   "source": [
    "## Searcing a Tree"
   ]
  },
  {
   "cell_type": "markdown",
   "metadata": {},
   "source": [
    "## Marvel \"Social\" Network"
   ]
  },
  {
   "cell_type": "markdown",
   "metadata": {},
   "source": [
    "<img src=\"Screen_Shot_2015-12-14_at_6.08.47_PM.png\">"
   ]
  },
  {
   "cell_type": "code",
   "execution_count": 14,
   "metadata": {
    "collapsed": false
   },
   "outputs": [
    {
     "name": "stdout",
     "output_type": "stream",
     "text": [
      "#!/usr/bin/env python\r\n",
      "\r\n",
      "import csv\r\n",
      "# import time\r\n",
      "\r\n",
      "\r\n",
      "def make_link(G, node1, node2):\r\n",
      "    if node1 not in G:\r\n",
      "        G[node1] = {}\r\n",
      "    (G[node1])[node2] = 1\r\n",
      "    if node2 not in G:\r\n",
      "        G[node2] = {}\r\n",
      "    (G[node2])[node1] = 1\r\n",
      "    return G\r\n",
      "\r\n",
      "\r\n",
      "def read_graph(filename):\r\n",
      "    \"\"\"\r\n",
      "    read an undirected graph in csv format. each line is an edge\r\n",
      "    \"\"\"\r\n",
      "    tsv = csv.reader(open(filename), delimiter='\\t')\r\n",
      "    G = {}\r\n",
      "    for (node1, node2) in tsv:\r\n",
      "        make_link(G, node1, node2)\r\n",
      "    return G\r\n",
      "\r\n",
      "marvelG = read_graph('uniq_edges.tsv')\r\n",
      "\r\n",
      "\r\n",
      "def path(G, v1, v2):\r\n",
      "    distance_from_start = {}\r\n",
      "    path_from_start = {}\r\n",
      "    open_list = [v1]\r\n",
      "    distance_from_start[v1] = 0\r\n",
      "    path_from_start[v1] = [v1]\r\n",
      "    while len(open_list) > 0:\r\n",
      "        current = open_list[0]\r\n",
      "        del open_list[0]\r\n",
      "        for neighbor in G[current].keys():\r\n",
      "            if neighbor not in distance_from_start:\r\n",
      "                distance_from_start[neighbor] = \\\r\n",
      "                    distance_from_start[current] + 1\r\n",
      "                path_from_start[neighbor] = \\\r\n",
      "                    path_from_start[current] + [neighbor]\r\n",
      "                if neighbor == v2:\r\n",
      "                    return distance_from_start[v2]\r\n",
      "                open_list.append(neighbor)\r\n",
      "    return False\r\n",
      "\r\n",
      "from_node = \"A\"\r\n",
      "to_node = \"ZZZAX\"\r\n",
      "print path(marvelG, from_node, to_node)\r\n"
     ]
    }
   ],
   "source": [
    "cat marvel.py"
   ]
  },
  {
   "cell_type": "markdown",
   "metadata": {},
   "source": [
    "## Single Source Shortest Paths"
   ]
  },
  {
   "cell_type": "markdown",
   "metadata": {},
   "source": [
    "How central is `v1`? One definition is the _average shortest path length to all the other nodes_."
   ]
  },
  {
   "cell_type": "markdown",
   "metadata": {},
   "source": [
    "The shortest path run lenght is $\\Theta(n + m)$. So, a naive repetition for all $n$ nodes is $\\Theta(n(n+m))$."
   ]
  },
  {
   "cell_type": "markdown",
   "metadata": {},
   "source": [
    "## All targets in one shot"
   ]
  },
  {
   "cell_type": "markdown",
   "metadata": {},
   "source": [
    "How can we find all distances from `v1` to the rest of the graph faster? Faster than $\\Theta(n^2 + nm)$?\n",
    "\n",
    "* We can't. Deal with it?\n",
    "* Use a smaller graph?\n",
    "* Search for something that isn't there? - THIS IS IT\n",
    "* Do the searches backwards?"
   ]
  },
  {
   "cell_type": "markdown",
   "metadata": {},
   "source": [
    "## Centrality"
   ]
  },
  {
   "cell_type": "markdown",
   "metadata": {
    "collapsed": true
   },
   "source": [
    "Modify the path-finding algorithm to find the _average_ of the shortest path distance to each (reachable) node - find the **centrality** measure for $v_1$. Note that this notion of centrality only makes sense for a set of connected nodes. If the graph is disconnected, it can return odd answers."
   ]
  },
  {
   "cell_type": "code",
   "execution_count": 16,
   "metadata": {
    "collapsed": false
   },
   "outputs": [],
   "source": [
    "import csv\n",
    "\n",
    "def make_link(G, node1, node2):\n",
    "    if node1 not in G:\n",
    "        G[node1] = {}\n",
    "    (G[node1])[node2] = 1\n",
    "    if node2 not in G:\n",
    "        G[node2] = {}\n",
    "    (G[node2])[node1] = 1\n",
    "    return G\n",
    "\n",
    "\n",
    "def read_graph(filename):\n",
    "    \"\"\"\n",
    "    read an undirected graph in csv format. each line is an edge\n",
    "    \"\"\"\n",
    "    tsv = csv.reader(open(filename), delimiter=',')\n",
    "    G = {}\n",
    "    for (node1, node2) in tsv:\n",
    "        make_link(G, node1, node2)\n",
    "    return G\n",
    "\n",
    "marvelG = read_graph('source.csv')"
   ]
  },
  {
   "cell_type": "code",
   "execution_count": 17,
   "metadata": {
    "collapsed": true
   },
   "outputs": [],
   "source": [
    "def path(G, v1, v2):\n",
    "    distance_from_start = {}\n",
    "    path_from_start = {}\n",
    "    open_list = [v1]\n",
    "    distance_from_start[v1] = 0\n",
    "    path_from_start[v1] = [v1]\n",
    "    while len(open_list) > 0:\n",
    "        current = open_list[0]\n",
    "        del open_list[0]\n",
    "        for neighbor in G[current].keys():\n",
    "            if neighbor not in distance_from_start:\n",
    "                distance_from_start[neighbor] = \\\n",
    "                    distance_from_start[current] + 1\n",
    "                path_from_start[neighbor] = \\\n",
    "                    path_from_start[current] + [neighbor]\n",
    "                if neighbor == v2:\n",
    "                    return distance_from_start[v2]\n",
    "                open_list.append(neighbor)\n",
    "    return False"
   ]
  },
  {
   "cell_type": "code",
   "execution_count": 18,
   "metadata": {
    "collapsed": true
   },
   "outputs": [],
   "source": [
    "def centrality(G, v):\n",
    "    distance_from_start = {}\n",
    "    path_from_start = {}\n",
    "    open_list = [v]\n",
    "    distance_from_start[v] = 0\n",
    "    while len(open_list) > 0:\n",
    "        current = open_list[0]\n",
    "        del open_list[0]\n",
    "        for neighbor in G[current].keys():\n",
    "            if neighbor not in distance_from_start:\n",
    "                distance_from_start[neighbor] = \\\n",
    "                    distance_from_start[current] + 1\n",
    "                path_from_start[neighbor] = \\\n",
    "                    path_from_start[current] + [neighbor]\n",
    "                open_list.append(neighbor)\n",
    "    return sum(distance_from_start.values() + 0.0)/len(distance_from_start)"
   ]
  },
  {
   "cell_type": "markdown",
   "metadata": {},
   "source": [
    "## Bridge Edges"
   ]
  },
  {
   "cell_type": "markdown",
   "metadata": {},
   "source": [
    "<img src=\"Screen_Shot_2016-01-06_at_6.05.57_PM.png\">"
   ]
  },
  {
   "cell_type": "markdown",
   "metadata": {},
   "source": [
    "Tarjan's rooted tree (note the \"non-tree edges\"):\n",
    "\n",
    "<img src=\"Screen_Shot_2016-01-06_at_6.09.58_PM.png\">"
   ]
  },
  {
   "cell_type": "markdown",
   "metadata": {},
   "source": [
    "1. write graph as tree\n",
    "2. \"post order\" the nodes\n",
    "\n",
    "\"Post ordering\" works by numbering nodes, but we must always number all the children to the left and right of a node before we may number a given node."
   ]
  },
  {
   "cell_type": "markdown",
   "metadata": {},
   "source": [
    "After post-ordering:\n",
    "\n",
    "<img src=\"Screen_Shot_2016-01-06_at_6.14.15_PM.png\">"
   ]
  },
  {
   "cell_type": "markdown",
   "metadata": {},
   "source": [
    "## Post-order a tree\n",
    "\n",
    "Got \"6\""
   ]
  },
  {
   "cell_type": "code",
   "execution_count": null,
   "metadata": {
    "collapsed": true
   },
   "outputs": [],
   "source": []
  }
 ],
 "metadata": {
  "kernelspec": {
   "display_name": "Python 2",
   "language": "python",
   "name": "python2"
  },
  "language_info": {
   "codemirror_mode": {
    "name": "ipython",
    "version": 2
   },
   "file_extension": ".py",
   "mimetype": "text/x-python",
   "name": "python",
   "nbconvert_exporter": "python",
   "pygments_lexer": "ipython2",
   "version": "2.7.11"
  }
 },
 "nbformat": 4,
 "nbformat_minor": 0
}
