{
 "cells": [
  {
   "cell_type": "markdown",
   "metadata": {},
   "source": [
    "# CS215: Intro to Algorithms"
   ]
  },
  {
   "cell_type": "code",
   "execution_count": 1,
   "metadata": {
    "collapsed": true
   },
   "outputs": [],
   "source": [
    "import math\n",
    "import scipy\n",
    "import scipy.special"
   ]
  },
  {
   "cell_type": "markdown",
   "metadata": {},
   "source": [
    "## A Social Network Magic Trick"
   ]
  },
  {
   "cell_type": "markdown",
   "metadata": {},
   "source": [
    "* A social network is connections between individuals that capture relationships between them.\n",
    "* Algorithms are how we organize computations to solve problems."
   ]
  },
  {
   "cell_type": "markdown",
   "metadata": {},
   "source": [
    "A graph is collection of _nodes_ connected by _edges_. We can talk about the _degree_ of a node as the number of edges connecting to it.\n",
    "\n",
    "See https://en.wikipedia.org/wiki/Graph_theory and https://en.wikipedia.org/wiki/Eulerian_path"
   ]
  },
  {
   "cell_type": "markdown",
   "metadata": {},
   "source": [
    "An _Eulerian path_ is a path through a network that traverses each edge _once_, beginning at some node and ending at some node. A graph with an Eulerian path may have more than one Eulerian path."
   ]
  },
  {
   "cell_type": "markdown",
   "metadata": {},
   "source": [
    "If a graph is connected and has exactly two odd degree nodes, the Eulerian path starts and/or ends in those nodes. Nodes of even degree cannot be the start or end nodes of the Eulerian path."
   ]
  },
  {
   "cell_type": "markdown",
   "metadata": {},
   "source": [
    "Can a graph with only even degree nodes have an Eulerian path?\n",
    "\n",
    "* No?\n",
    "* Yes, but only certain graphs.\n",
    "* **Yes, all such graphs do.**\n",
    "* Yes, all graphs have an Eulerian path."
   ]
  },
  {
   "cell_type": "markdown",
   "metadata": {},
   "source": [
    "According to wikipedia, an undirected, connected graph has an Eulerian path iff it has either 0 or 2 vertices of odd degree. If it has 0 vertices of odd degree, the Eulerian path is an Eulerian circuit."
   ]
  },
  {
   "cell_type": "markdown",
   "metadata": {
    "collapsed": true
   },
   "source": [
    "An _Eulerian tour_ is an Eulerian path that starts and ends at the same node."
   ]
  },
  {
   "cell_type": "markdown",
   "metadata": {},
   "source": [
    "Algorithms are cool\n",
    "\n",
    "* really useful (performance)\n",
    "* really clever\n",
    "\n",
    "Practical - how to make a program fly?\n",
    "\n",
    "* careful program design\n",
    "* tweaking loops\n",
    "* **good algorithm design**"
   ]
  },
  {
   "cell_type": "markdown",
   "metadata": {},
   "source": [
    "Fake Python algorithm to think about algorithms\n",
    "\n",
    "    def algorithm_development(problem_spec):\n",
    "        correct = False\n",
    "        while not correct or not fast_enough(running_time):\n",
    "            algorithm = devise_algorithm(problem_spec)\n",
    "            correct = analyze_correctness(algorithm)\n",
    "            running_time = analyze_efficiency(algorithm)\n",
    "        return algorithm"
   ]
  },
  {
   "cell_type": "markdown",
   "metadata": {},
   "source": [
    "There is a heavy emphasis on mathematics in algorithm design\n",
    "\n",
    "1. formalize what you are doing\n",
    "2. analyze correctness\n",
    "3. analyze efficiency\n",
    "\n",
    "What does efficiency mean? Clock time? Memory? Power consumption?"
   ]
  },
  {
   "cell_type": "code",
   "execution_count": 2,
   "metadata": {
    "collapsed": true
   },
   "outputs": [],
   "source": [
    "def naive(a, b):\n",
    "    x = a\n",
    "    y = b\n",
    "    z = 0\n",
    "    while x > 0:\n",
    "        z = z + y\n",
    "        x = x - 1\n",
    "    return z"
   ]
  },
  {
   "cell_type": "code",
   "execution_count": 3,
   "metadata": {
    "collapsed": false
   },
   "outputs": [
    {
     "data": {
      "text/plain": [
       "10"
      ]
     },
     "execution_count": 3,
     "metadata": {},
     "output_type": "execute_result"
    }
   ],
   "source": [
    "naive(5, 2)"
   ]
  },
  {
   "cell_type": "code",
   "execution_count": 4,
   "metadata": {
    "collapsed": false
   },
   "outputs": [
    {
     "data": {
      "text/plain": [
       "10"
      ]
     },
     "execution_count": 4,
     "metadata": {},
     "output_type": "execute_result"
    }
   ],
   "source": [
    "naive(2, 5)"
   ]
  },
  {
   "cell_type": "code",
   "execution_count": 5,
   "metadata": {
    "collapsed": false
   },
   "outputs": [
    {
     "data": {
      "text/plain": [
       "9"
      ]
     },
     "execution_count": 5,
     "metadata": {},
     "output_type": "execute_result"
    }
   ],
   "source": [
    "naive(3, 3)"
   ]
  },
  {
   "cell_type": "markdown",
   "metadata": {},
   "source": [
    "How do we show `naive` is \"correct\"? Observe: before or after the while loop, `a * b = x * y + z`. _Inductive step_: if `ab = xy + z` _before_ the loop, then `ab = x'y' + z'` _after_ the loop. Here, `x' = x - 1`, `y' = y`, `z' = z + y`, so do some algebra:"
   ]
  },
  {
   "cell_type": "markdown",
   "metadata": {},
   "source": [
    "\\begin{equation}\n",
    "\\begin{split}\n",
    "x'y' + z' =&~ (x - 1)y + (z + y) \\\\\n",
    "=&~ xy - y + z + y \\\\\n",
    "=&~ xy + z\n",
    "\\end{split}\n",
    "\\end{equation}"
   ]
  },
  {
   "cell_type": "markdown",
   "metadata": {},
   "source": [
    "So, while the code is running, `ab = xy + z` is always true. At the end, `x = 0`, so `z = ab`. We return `z`, so, therefore, the algorithm is multiplying `a` and `b`."
   ]
  },
  {
   "cell_type": "markdown",
   "metadata": {
    "collapsed": true
   },
   "source": [
    "#### Running Time of `naive(a, b)`"
   ]
  },
  {
   "cell_type": "markdown",
   "metadata": {},
   "source": [
    "`naive(a, b)` gets slower as `a` and `b` get larger. Basically, it grows linearly - it goes through a loop `a` times."
   ]
  },
  {
   "cell_type": "markdown",
   "metadata": {},
   "source": [
    "#### Russian Peasant's Algorithm (Ancient Egyptian Multiplication)"
   ]
  },
  {
   "cell_type": "code",
   "execution_count": 6,
   "metadata": {
    "collapsed": true
   },
   "outputs": [],
   "source": [
    "def russian(a, b):\n",
    "    x = a\n",
    "    y = b\n",
    "    z = 0\n",
    "    while x > 0:\n",
    "        if x % 2 == 1:\n",
    "            z = z + y\n",
    "        y = y << 1\n",
    "        x = x >> 1\n",
    "    return z"
   ]
  },
  {
   "cell_type": "code",
   "execution_count": 7,
   "metadata": {
    "collapsed": false
   },
   "outputs": [
    {
     "data": {
      "text/plain": [
       "10"
      ]
     },
     "execution_count": 7,
     "metadata": {},
     "output_type": "execute_result"
    }
   ],
   "source": [
    "russian(2, 5)"
   ]
  },
  {
   "cell_type": "code",
   "execution_count": 8,
   "metadata": {
    "collapsed": false
   },
   "outputs": [
    {
     "data": {
      "text/plain": [
       "42"
      ]
     },
     "execution_count": 8,
     "metadata": {},
     "output_type": "execute_result"
    }
   ],
   "source": [
    "russian(3, 14)"
   ]
  },
  {
   "cell_type": "code",
   "execution_count": 9,
   "metadata": {
    "collapsed": false
   },
   "outputs": [
    {
     "data": {
      "text/plain": [
       "8"
      ]
     },
     "execution_count": 9,
     "metadata": {},
     "output_type": "execute_result"
    }
   ],
   "source": [
    "17 >> 1"
   ]
  },
  {
   "cell_type": "code",
   "execution_count": 10,
   "metadata": {
    "collapsed": false
   },
   "outputs": [
    {
     "data": {
      "text/plain": [
       "32"
      ]
     },
     "execution_count": 10,
     "metadata": {},
     "output_type": "execute_result"
    }
   ],
   "source": [
    "16 << 1"
   ]
  },
  {
   "cell_type": "code",
   "execution_count": 11,
   "metadata": {
    "collapsed": false
   },
   "outputs": [
    {
     "data": {
      "text/plain": [
       "30"
      ]
     },
     "execution_count": 11,
     "metadata": {},
     "output_type": "execute_result"
    }
   ],
   "source": [
    "15 << 1"
   ]
  },
  {
   "cell_type": "code",
   "execution_count": 12,
   "metadata": {
    "collapsed": false
   },
   "outputs": [
    {
     "data": {
      "text/plain": [
       "4"
      ]
     },
     "execution_count": 12,
     "metadata": {},
     "output_type": "execute_result"
    }
   ],
   "source": [
    "8 >> 1"
   ]
  },
  {
   "cell_type": "code",
   "execution_count": 13,
   "metadata": {
    "collapsed": false
   },
   "outputs": [
    {
     "data": {
      "text/plain": [
       "0"
      ]
     },
     "execution_count": 13,
     "metadata": {},
     "output_type": "execute_result"
    }
   ],
   "source": [
    "0 << 1"
   ]
  },
  {
   "cell_type": "markdown",
   "metadata": {},
   "source": [
    "Example: `russian(14, 11)`:\n",
    "\n",
    "    x     y      z\n",
    "    14    11     0\n",
    "    7     22     0\n",
    "    3     44     22\n",
    "    1     88     66\n",
    "    0     175    154"
   ]
  },
  {
   "cell_type": "markdown",
   "metadata": {},
   "source": [
    "#### Why does this work?"
   ]
  },
  {
   "cell_type": "markdown",
   "metadata": {},
   "source": [
    "We still use $ab = xy + z$ - we'd like to prove this is always true. The base case is true. Now we need the inductive step - does it hold at the top and bottom of the while loop? We need two cases: $x$ is odd and $x$ is even.\n",
    "\n",
    "If $x$ is odd:\n",
    "\\begin{equation}\n",
    "\\begin{split}\n",
    "x' =&~ (x - 1)/2 \\\\\n",
    "y' =&~ 2y \\\\\n",
    "z' =&~ z + y \\\\\n",
    "\\Rightarrow x'y' + z' =&~ (x-1)/2 \\times 2y + z + y \\\\\n",
    "=&~ xy - y + z + y \\\\\n",
    "=&~ xy + z \\\\\n",
    "=&~ ab\n",
    "\\end{split}\n",
    "\\end{equation}\n",
    "\n",
    "If $x$ is even:\n",
    "\\begin{equation}\n",
    "\\begin{split}\n",
    "x' =&~ x/2 \\\\\n",
    "y' =&~ 2y \\\\\n",
    "z' =& z \\\\\n",
    "\\Rightarrow x'y' + z' =&~ (x/2)(2y) + z \\\\\n",
    "=&~ xy + z \\\\\n",
    "=&~ ab\n",
    "\\end{split}\n",
    "\\end{equation}"
   ]
  },
  {
   "cell_type": "markdown",
   "metadata": {},
   "source": [
    "How many additions are there for `russian(20, 7)`?"
   ]
  },
  {
   "cell_type": "markdown",
   "metadata": {
    "collapsed": true
   },
   "source": [
    "    x     y     z\n",
    "    20    7     0\n",
    "    10    14    0\n",
    "    5     28    0\n",
    "    2     56    28\n",
    "    1     112   28\n",
    "    0     224   140\n",
    "    \n",
    "There are two additions."
   ]
  },
  {
   "cell_type": "markdown",
   "metadata": {},
   "source": [
    "Cool trick: there is a relationship between the binary representation of 20 and the number of additions. The binary rep of 20 is `010100`. The addition steps occur when the bit shifts are odd:\n",
    "\n",
    "    x     y     z    add?\n",
    "    20    7     0    0\n",
    "    10    14    0    0\n",
    "    5     28    0    1\n",
    "    2     56    28   0\n",
    "    1     112   28   1\n",
    "    0     224   140  0\n",
    "    \n",
    "Is this commutative? The binary representation of 7 is `111` - so do we have three additions when ordering the computation that way?\n",
    "\n",
    "    x    y    z     add?\n",
    "    7    20   0     1\n",
    "    3    40   20    1\n",
    "    1    80   60    1\n",
    "    0    160  140   0\n",
    "\n",
    "So, yes, there are three additions."
   ]
  },
  {
   "cell_type": "markdown",
   "metadata": {},
   "source": [
    "#### `naive` vs `Russian` - which is better?"
   ]
  },
  {
   "cell_type": "markdown",
   "metadata": {},
   "source": [
    "What matters to us? `naive` is probably more readable. Which is faster? `Russain` is _vastly_ faster for large numbers. "
   ]
  },
  {
   "cell_type": "markdown",
   "metadata": {},
   "source": [
    "#### measuring time"
   ]
  },
  {
   "cell_type": "markdown",
   "metadata": {},
   "source": [
    "Simplifying assumptions\n",
    "\n",
    "1. simple statements take unit time\n",
    "2. the time it takes to execute `n` statements in sequence takes `n` units of time (ignore pipelining and caching)\n",
    "3. therefore the running time for a loop is the time required for the block times the number of loops"
   ]
  },
  {
   "cell_type": "code",
   "execution_count": 14,
   "metadata": {
    "collapsed": false
   },
   "outputs": [
    {
     "name": "stdout",
     "output_type": "stream",
     "text": [
      "10\n"
     ]
    }
   ],
   "source": [
    "# how many units?\n",
    "s = 0                 # 1\n",
    "for i in range(10):   # \n",
    "    s = s + 1         # 1 + (n = 1) * 10 = 11  \n",
    "print s               # 12"
   ]
  },
  {
   "cell_type": "code",
   "execution_count": 15,
   "metadata": {
    "collapsed": false
   },
   "outputs": [
    {
     "name": "stdout",
     "output_type": "stream",
     "text": [
      "10\n",
      "None\n"
     ]
    }
   ],
   "source": [
    "def countdown(x):\n",
    "    y = 0               # 1\n",
    "    while x > 0:        # don't count these, 1\n",
    "        x = x - 5       # 1 + (n * 1)\n",
    "        y = y + 1       # 1 + (n * 2) -> n = x % 5\n",
    "    print y             # 2 + (x / 5) * 2\n",
    "    \n",
    "print countdown(50)     # 3 + (x / 5) * 2"
   ]
  },
  {
   "cell_type": "code",
   "execution_count": 16,
   "metadata": {
    "collapsed": true
   },
   "outputs": [],
   "source": [
    "def ncomp(n):\n",
    "    if n % 5 > 0:\n",
    "        print 3 + ((n / 5) + 1) * 2\n",
    "    else:\n",
    "        print 3 + (n / 5) * 2"
   ]
  },
  {
   "cell_type": "code",
   "execution_count": 17,
   "metadata": {
    "collapsed": false
   },
   "outputs": [
    {
     "name": "stdout",
     "output_type": "stream",
     "text": [
      "23\n",
      "5\n",
      "7\n"
     ]
    }
   ],
   "source": [
    "ncomp(50)\n",
    "ncomp(5)\n",
    "ncomp(6)"
   ]
  },
  {
   "cell_type": "code",
   "execution_count": 18,
   "metadata": {
    "collapsed": true
   },
   "outputs": [],
   "source": [
    "# instructor solution\n",
    "import math\n",
    "\n",
    "def time(n):\n",
    "    return 3 + 2 * math.ceil(n/5.0)"
   ]
  },
  {
   "cell_type": "code",
   "execution_count": 19,
   "metadata": {
    "collapsed": false
   },
   "outputs": [
    {
     "name": "stdout",
     "output_type": "stream",
     "text": [
      "23.0\n",
      "5.0\n",
      "7.0\n"
     ]
    }
   ],
   "source": [
    "print time(50)\n",
    "print time(5)\n",
    "print time(6)"
   ]
  },
  {
   "cell_type": "code",
   "execution_count": 20,
   "metadata": {
    "collapsed": true
   },
   "outputs": [],
   "source": [
    "# count steps in naive\n",
    "# NOTE: we don't count loop evaluation and we aren't counting the return\n",
    "def time(a):\n",
    "    steps = 3\n",
    "    loopsteps = 2*a\n",
    "    return steps + loopsteps"
   ]
  },
  {
   "cell_type": "code",
   "execution_count": 21,
   "metadata": {
    "collapsed": false
   },
   "outputs": [
    {
     "name": "stdout",
     "output_type": "stream",
     "text": [
      "11\n",
      "15\n",
      "19\n"
     ]
    }
   ],
   "source": [
    "print time(4)\n",
    "print time(6)\n",
    "print time(8)"
   ]
  },
  {
   "cell_type": "code",
   "execution_count": 22,
   "metadata": {
    "collapsed": true
   },
   "outputs": [],
   "source": [
    "# count steps in russian - how many times can we divide x in half before it hits 0\n",
    "# x      0  1  2  3  4  5  6  7  8  9  10  11  \n",
    "# #halvs 0  1  2  2  3  3  3  3  4  4  4   4"
   ]
  },
  {
   "cell_type": "code",
   "execution_count": 23,
   "metadata": {
    "collapsed": false
   },
   "outputs": [
    {
     "name": "stdout",
     "output_type": "stream",
     "text": [
      "1 1.0\n",
      "2 2.0\n",
      "3 2.0\n",
      "4 3.0\n",
      "5 3.0\n",
      "6 3.0\n",
      "7 3.0\n",
      "8 4.0\n",
      "9 4.0\n",
      "10 4.0\n",
      "11 4.0\n"
     ]
    }
   ],
   "source": [
    "for x in range(11):\n",
    "    n = x + 1\n",
    "    print n, math.floor(math.log(n, 2)) + 1"
   ]
  },
  {
   "cell_type": "markdown",
   "metadata": {},
   "source": [
    "What about the `x % 2` statement in `russian`? It turns out that it will be executed once for each \"on\" bit in the binary representation of `a`. It is easy to put an upper bound... and `log(n, 2) + 1` is actually a count of the maximum number of \"on\" bits! For example, think about 8 (1000) and 7 (111) - `log(7, 2) + 1 = 3`, which is maximum number of \"on\" bits for anything less than 7."
   ]
  },
  {
   "cell_type": "code",
   "execution_count": 24,
   "metadata": {
    "collapsed": true
   },
   "outputs": [],
   "source": [
    "def time_russ_upper(n):\n",
    "    \"\"\"\n",
    "    upper bound\n",
    "    \"\"\"\n",
    "    steps = 4 * (math.floor(math.log(n, 2)) + 1) + 3"
   ]
  },
  {
   "cell_type": "markdown",
   "metadata": {
    "collapsed": true
   },
   "source": [
    "#### Divide and Conquer"
   ]
  },
  {
   "cell_type": "markdown",
   "metadata": {},
   "source": [
    "Multiplication is repeated addition. We can re-group each multiplication as two different sums of half the numbers - this roughly halves the number of addition operations. We can then also break each of those groups in half and effectively halve the number of additions again, and so on (although, eventually, this seems to lead us back to where we started - the nice thing, I suppose, is that we are always _doubling_ when adding subgroups, and doubling is an easy operation for a computer (bit shift))."
   ]
  },
  {
   "cell_type": "markdown",
   "metadata": {},
   "source": [
    "The idea behind _divide and conquer_ is to break a problem into roughly equal sized subproblems, solve them separately, and then combine the results."
   ]
  },
  {
   "cell_type": "code",
   "execution_count": 25,
   "metadata": {
    "collapsed": true
   },
   "outputs": [],
   "source": [
    "def rec_russian(a, b):\n",
    "    if a == 0:\n",
    "        return 0\n",
    "    if a % 2 == 0:\n",
    "        return 2 * rec_russian(a/2, b)\n",
    "    return b + 2 * rec_russian((a - 1) / 2, b)"
   ]
  },
  {
   "cell_type": "code",
   "execution_count": 26,
   "metadata": {
    "collapsed": false
   },
   "outputs": [
    {
     "data": {
      "text/plain": [
       "12"
      ]
     },
     "execution_count": 26,
     "metadata": {},
     "output_type": "execute_result"
    }
   ],
   "source": [
    "rec_russian(3, 4)"
   ]
  },
  {
   "cell_type": "code",
   "execution_count": 27,
   "metadata": {
    "collapsed": false
   },
   "outputs": [
    {
     "name": "stdout",
     "output_type": "stream",
     "text": [
      "100000 loops, best of 3: 7.31 µs per loop\n"
     ]
    }
   ],
   "source": [
    "%timeit rec_russian(1000,1000)"
   ]
  },
  {
   "cell_type": "markdown",
   "metadata": {},
   "source": [
    "#### Recurrence Relation"
   ]
  },
  {
   "cell_type": "markdown",
   "metadata": {},
   "source": [
    "    T(a) = if a = 0, 1\n",
    "         = elif a is even, 3 + T(a/2)\n",
    "         = else            3 + T((a-1)/2)\n",
    "         \n",
    "    T(0) = 1\n",
    "    T(1) = 3            = 4\n",
    "    T(2) = 3 + T(1)     = 7\n",
    "    T(3) = 3 + T(1)     = 7\n",
    "    T(4) = 3 + T(2)     = 10\n",
    "    T(5) = 3 + T(2)     = 10\n",
    "    T(6) = 3 + T(3)     = 10\n",
    "    T(7) = 3 + T(3)     = 10\n",
    "    T(8) = 3 + T(4)     = 13\n",
    "         "
   ]
  },
  {
   "cell_type": "code",
   "execution_count": 28,
   "metadata": {
    "collapsed": false
   },
   "outputs": [
    {
     "name": "stdout",
     "output_type": "stream",
     "text": [
      "[1.0, 2.0, 2.0, 3.0, 3.0, 3.0, 3.0, 4.0]\n",
      "[1.0, 4.0, 4.0, 7.0, 7.0, 7.0, 7.0, 10.0]\n",
      "[3.0, 6.0, 6.0, 9.0, 9.0, 9.0, 9.0, 12.0]\n",
      "[4.0, 7.0, 7.0, 10.0, 10.0, 10.0, 10.0, 13.0]\n"
     ]
    }
   ],
   "source": [
    "def rec_cand1(a):\n",
    "    T_a = math.floor(math.log(a, 2)) + 1\n",
    "    return T_a\n",
    "\n",
    "def rec_cand2(a):\n",
    "    T_a = 3 * math.floor(math.log(a, 2)) + 1\n",
    "    return T_a\n",
    "\n",
    "def rec_cand3(a):\n",
    "    T_a = 3 * math.floor(math.log(a, 2)) + 3\n",
    "    return T_a\n",
    "\n",
    "def rec_cand4(a):\n",
    "    T_a = 3 * math.floor(math.log(a, 2)) + 4\n",
    "    return T_a\n",
    "\n",
    "vals = list(range(1, 9))\n",
    "\n",
    "l1 = [rec_cand1(x) for x in vals]\n",
    "l2 = [rec_cand2(x) for x in vals]\n",
    "l3 = [rec_cand3(x) for x in vals]\n",
    "l4 = [rec_cand4(x) for x in vals]\n",
    "\n",
    "print(l1)\n",
    "print(l2)\n",
    "print(l3)\n",
    "print(l4)    "
   ]
  },
  {
   "cell_type": "markdown",
   "metadata": {},
   "source": [
    "# Problem Set 1"
   ]
  },
  {
   "cell_type": "markdown",
   "metadata": {},
   "source": [
    "## Problem 1"
   ]
  },
  {
   "cell_type": "markdown",
   "metadata": {},
   "source": [
    "    Tyrone  --  Marcie  --  Sayo\n",
    "    |           |           |\n",
    "    Hubert  --  Javier  --  Christian\n",
    "\n",
    "An Eulerian path starting with Javier ends at which node?"
   ]
  },
  {
   "cell_type": "markdown",
   "metadata": {},
   "source": [
    "Recall an undirected, connected graph has an Eulerian path if it has 0 or 2 nodes of odd degree. Here we have two nodes of odd degree, \"Marcie\" and \"Javier\".\n",
    "\n",
    "Although I can't find a theorem for it in a very brief internet scan, hand-trials seem to indicate if we start with Javier we must end with Marcie. Evidently this was also specified in class, but my notes do not reflect it well: In an undirected, connected graph, all nodes must be of even degree except the start and end node. Here, our start node, Javier, is odd so our end node must also be odd and the only possible choice is Marcie.\n",
    "\n",
    "Note that simple hand trials seem to confirm the Eulerian path here _must_ start and end with either Javier/Marcie or Marcie/Javier."
   ]
  },
  {
   "cell_type": "markdown",
   "metadata": {},
   "source": [
    "## Problem 2"
   ]
  },
  {
   "cell_type": "markdown",
   "metadata": {},
   "source": [
    "    Tyrone  --  Marcie  --  Sayo\n",
    "    |           |           |\n",
    "    Hubert  --  Javier  --  Christian\n",
    "\n",
    "How many Eulerian paths does the graph have starting from Javier?"
   ]
  },
  {
   "cell_type": "markdown",
   "metadata": {},
   "source": [
    "There is a general theorem for this, but it is hard to absorb quickly:\n",
    "\n",
    "https://en.wikipedia.org/wiki/BEST_theorem"
   ]
  },
  {
   "cell_type": "markdown",
   "metadata": {},
   "source": [
    "Simple counting shows two paths for each outpath from Javier, so 6? This is correct, and the official solution just counted the paths by hand..."
   ]
  },
  {
   "cell_type": "markdown",
   "metadata": {},
   "source": [
    "## Problem 3"
   ]
  },
  {
   "cell_type": "markdown",
   "metadata": {},
   "source": [
    "Create tour..."
   ]
  },
  {
   "cell_type": "code",
   "execution_count": 29,
   "metadata": {
    "collapsed": true
   },
   "outputs": [],
   "source": [
    "# Eulerian Tour v1\n",
    "#\n",
    "# Write a function `create_tour` that takes as input \n",
    "# a list of nodes and outputs a graph as a list of\n",
    "# tuples representing edges between nodes that have\n",
    "# an Eulerian tour.\n",
    "\n",
    "def create_tour(nodes):\n",
    "    \"\"\"\n",
    "    our tour must be a list because we must support indexing\n",
    "    however, there should be no duplicate edges\n",
    "    \n",
    "    example solution:\n",
    "        nodes = [1, 2, 3]\n",
    "        return [(1, 3), (1, 2), (2, 3)]\n",
    "        \n",
    "    TA solution is very elegant (although he never shows `edge()`,\n",
    "    it must just make tuples)\n",
    "    --\n",
    "    tour= []\n",
    "    l = len(nodes)\n",
    "    for i in range(l):\n",
    "        t = edge(nodes[i], nodes[(i+1) % l])\n",
    "        tour.append(t)\n",
    "    return tour\n",
    "    \"\"\"\n",
    "    # first, remove duplicate nodes\n",
    "    nodes = list(set(nodes))   \n",
    "    tour = []\n",
    "    nnodes = len(nodes)\n",
    "    # loop over the nodes and connect them in sequential pairs\n",
    "    for i in xrange(nnodes - 1):\n",
    "        j = i + 1\n",
    "        tour.append((nodes[i], nodes[j]))\n",
    "    # the loop misses the reconnection from the last node to the first\n",
    "    tour.append((nodes[0], nodes[-1]))\n",
    "    # not really needed except to guard against two node sets...\n",
    "    tour = list(set(tour))\n",
    "    return tour\n",
    "\n",
    "def get_degree(tour):\n",
    "    \"\"\"\n",
    "    tour is a list of tuples representing edges between nodes\n",
    "    \n",
    "    return a dictionary keyed by node containing the degree of \n",
    "    each key\n",
    "    \"\"\"\n",
    "    degree = {}\n",
    "    for x, y in tour:\n",
    "        degree[x] = degree.get(x, 0) + 1\n",
    "        degree[y] = degree.get(y, 0) + 1\n",
    "    return degree\n",
    "\n",
    "def check_edge(t, b, nodes):\n",
    "    \"\"\"\n",
    "    t - tuple representing an edge\n",
    "    b - origin node\n",
    "    nodes - set of nodes already visited\n",
    "    \n",
    "    if we can get to a new node from `b` following `t`, then \n",
    "    return the new node, else return `None`\n",
    "    \"\"\"\n",
    "    if t[0] == b:\n",
    "        if t[1] not in nodes:\n",
    "            return t[1]\n",
    "    elif t[1] == b:\n",
    "        if t[0] not in nodes:\n",
    "            return t[0]\n",
    "    return None\n",
    "\n",
    "def connected_nodes(tour):\n",
    "    \"\"\"\n",
    "    tour - a list of tuples representing all the edges\n",
    "    \n",
    "    return the set of nodes reachable from the fist node in `tour`\n",
    "    \"\"\"\n",
    "    a = tour[0][0]      # first node from first tuple in list\n",
    "    nodes = set([a])    # visited\n",
    "    explore = set([a])\n",
    "    while len(explore) > 0:\n",
    "        # see what other nodes are reachable\n",
    "        b = explore.pop()\n",
    "        for t in tour:\n",
    "            node = check_edge(t, b, nodes)\n",
    "            if node is None:\n",
    "                continue\n",
    "            nodes.add(node)\n",
    "            explore.add(node)\n",
    "    return nodes\n",
    "\n",
    "def is_eulerian_tour(nodes, tour):\n",
    "    # all nodes must be even degree (here)\n",
    "    # every node must be in the graph\n",
    "    degree = get_degree(tour)\n",
    "    for node in nodes:\n",
    "        try:\n",
    "            d = degree[node]\n",
    "            if d % 2 == 1:\n",
    "                print \"Node %s has odd degree\" % node\n",
    "                return False\n",
    "        except KeyError:\n",
    "            print \"Node %s was not in your tour\" % node\n",
    "            return False\n",
    "    connected = connected_nodes(tour)\n",
    "    if len(connected) == len(nodes):\n",
    "        return True\n",
    "    else:\n",
    "        print \"Your graph was't connected\"\n",
    "        return False\n",
    "    \n",
    "def test():\n",
    "    nodes = [20, 21, 22, 23, 24, 25]\n",
    "    tour = create_tour(nodes)\n",
    "    return is_eulerian_tour(nodes, tour)"
   ]
  },
  {
   "cell_type": "code",
   "execution_count": 30,
   "metadata": {
    "collapsed": false
   },
   "outputs": [
    {
     "name": "stdout",
     "output_type": "stream",
     "text": [
      "[(24, 22), (20, 22), (24, 20)]\n",
      "{24: 2, 20: 2, 22: 2}\n"
     ]
    },
    {
     "data": {
      "text/plain": [
       "True"
      ]
     },
     "execution_count": 30,
     "metadata": {},
     "output_type": "execute_result"
    }
   ],
   "source": [
    "# nodes = [20, 21, 22, 23, 24, 25]\n",
    "nodes = [20, 22, 24]\n",
    "tour = create_tour(nodes)\n",
    "print tour\n",
    "degree = get_degree(tour)\n",
    "print degree\n",
    "test()"
   ]
  },
  {
   "cell_type": "markdown",
   "metadata": {},
   "source": [
    "## Problem 4"
   ]
  },
  {
   "cell_type": "markdown",
   "metadata": {},
   "source": [
    "What are the advantages and disadvantages of representing a graph as a list of tuples?"
   ]
  },
  {
   "cell_type": "markdown",
   "metadata": {},
   "source": [
    "Advantages:\n",
    "\n",
    "* iterable\n",
    "* simple\n",
    "\n",
    "Disadvantages:\n",
    "\n",
    "* no enforcement against duplicates (maybe you want duplicates though)\n",
    "* not clear how to represent isolated nodes\n",
    "* no natural enforcement mechanism to keep the graph connected (maybe you want unconnected graphs though)"
   ]
  },
  {
   "cell_type": "markdown",
   "metadata": {},
   "source": [
    "## Problem 5"
   ]
  },
  {
   "cell_type": "markdown",
   "metadata": {},
   "source": [
    "Recall from lecture:"
   ]
  },
  {
   "cell_type": "code",
   "execution_count": 31,
   "metadata": {
    "collapsed": true
   },
   "outputs": [],
   "source": [
    "def naive(a, b):\n",
    "    x = a\n",
    "    y = b\n",
    "    z = 0\n",
    "    while x > 0:\n",
    "        z += y\n",
    "        x -= 1\n",
    "    return z"
   ]
  },
  {
   "cell_type": "markdown",
   "metadata": {},
   "source": [
    "Suppose we are computing `naive(63, 12)`. At some point we have `x = 20` and `y = 12`. What is `z`?"
   ]
  },
  {
   "cell_type": "markdown",
   "metadata": {},
   "source": [
    "Recall we proved `ab = xy + z` always, so `z = ab - xy`. At this point..."
   ]
  },
  {
   "cell_type": "code",
   "execution_count": 32,
   "metadata": {
    "collapsed": false
   },
   "outputs": [
    {
     "data": {
      "text/plain": [
       "516"
      ]
     },
     "execution_count": 32,
     "metadata": {},
     "output_type": "execute_result"
    }
   ],
   "source": [
    "63 * 12 - 20 * 12"
   ]
  },
  {
   "cell_type": "markdown",
   "metadata": {},
   "source": [
    "... `z` is 516."
   ]
  },
  {
   "cell_type": "markdown",
   "metadata": {},
   "source": [
    "## Problem 6"
   ]
  },
  {
   "cell_type": "markdown",
   "metadata": {},
   "source": [
    "Here is a recursive multiplication algorithm:"
   ]
  },
  {
   "cell_type": "code",
   "execution_count": 33,
   "metadata": {
    "collapsed": true
   },
   "outputs": [],
   "source": [
    "def rec_naive(a, b):\n",
    "    if a == 0:\n",
    "        return 0\n",
    "    return b + rec_naive(a - 1, b)"
   ]
  },
  {
   "cell_type": "markdown",
   "metadata": {},
   "source": [
    "How many additions are required to compute `rec_naive(17, 6)` = 102?"
   ]
  },
  {
   "cell_type": "markdown",
   "metadata": {},
   "source": [
    "Here, we go through the loop 17 times. (We should at least do `rec_naive(6, 17)`, haha.)"
   ]
  },
  {
   "cell_type": "markdown",
   "metadata": {},
   "source": [
    "## Problem 7"
   ]
  },
  {
   "cell_type": "markdown",
   "metadata": {},
   "source": [
    "Recall the `russian` multiplication algorithm from lecture:"
   ]
  },
  {
   "cell_type": "code",
   "execution_count": 34,
   "metadata": {
    "collapsed": true
   },
   "outputs": [],
   "source": [
    "def russian(a, b):\n",
    "    x = a\n",
    "    y = b\n",
    "    z = 0\n",
    "    while x > 0:\n",
    "        if x % 2 == 1:\n",
    "            z = z + y\n",
    "        y = y << 1\n",
    "        x = x >> 1\n",
    "        print(x, y, z)  # just to check...\n",
    "    return z"
   ]
  },
  {
   "cell_type": "markdown",
   "metadata": {},
   "source": [
    "Suppose we are computing `russian(63,12)`. At some point we have `x=7` and `z=84`. What is `y` at that moment?"
   ]
  },
  {
   "cell_type": "markdown",
   "metadata": {},
   "source": [
    "We proved `ab = xy + z` always. Therefore, `y = (ab - z)/x`, or:"
   ]
  },
  {
   "cell_type": "code",
   "execution_count": 35,
   "metadata": {
    "collapsed": false
   },
   "outputs": [
    {
     "data": {
      "text/plain": [
       "96"
      ]
     },
     "execution_count": 35,
     "metadata": {},
     "output_type": "execute_result"
    }
   ],
   "source": [
    "(63*12 - 84)/7"
   ]
  },
  {
   "cell_type": "code",
   "execution_count": 36,
   "metadata": {
    "collapsed": false
   },
   "outputs": [
    {
     "name": "stdout",
     "output_type": "stream",
     "text": [
      "(31, 24, 12)\n",
      "(15, 48, 36)\n",
      "(7, 96, 84)\n",
      "(3, 192, 180)\n",
      "(1, 384, 372)\n",
      "(0, 768, 756)\n"
     ]
    },
    {
     "data": {
      "text/plain": [
       "756"
      ]
     },
     "execution_count": 36,
     "metadata": {},
     "output_type": "execute_result"
    }
   ],
   "source": [
    "russian(63, 12)"
   ]
  },
  {
   "cell_type": "markdown",
   "metadata": {},
   "source": [
    "## Problem 8"
   ]
  },
  {
   "cell_type": "code",
   "execution_count": 37,
   "metadata": {
    "collapsed": true
   },
   "outputs": [],
   "source": [
    "def clique(n):\n",
    "    print \"in a clique...\"\n",
    "    for j in range(n):\n",
    "        print \"range eval outer\"\n",
    "        for i in range(j):\n",
    "            print \"range eval inner\"\n",
    "            print i, \"is friends with\", j"
   ]
  },
  {
   "cell_type": "code",
   "execution_count": 38,
   "metadata": {
    "collapsed": false
   },
   "outputs": [
    {
     "name": "stdout",
     "output_type": "stream",
     "text": [
      "in a clique...\n",
      "range eval outer\n",
      "range eval outer\n",
      "range eval inner\n",
      "0 is friends with 1\n",
      "range eval outer\n",
      "range eval inner\n",
      "0 is friends with 2\n",
      "range eval inner\n",
      "1 is friends with 2\n",
      "range eval outer\n",
      "range eval inner\n",
      "0 is friends with 3\n",
      "range eval inner\n",
      "1 is friends with 3\n",
      "range eval inner\n",
      "2 is friends with 3\n"
     ]
    }
   ],
   "source": [
    "clique(4)"
   ]
  },
  {
   "cell_type": "markdown",
   "metadata": {},
   "source": [
    "How many instructions are required for `clique(4)`? Count each `print` as one unit and each `range` evaluation as 1 unit."
   ]
  },
  {
   "cell_type": "markdown",
   "metadata": {},
   "source": [
    "There are seven `print` statements. `range` is evaluated four times in the outer loop, and then 0, 1, 2, and 3 times on the inner loops. Therefore, the total is 17.\n",
    "\n",
    "End of range too I guess means...\n",
    "\n",
    "There are seven `print` statements. `range` is evaluated 4+1 times in the outer loop, and then 0+1, 1+1, 2+1, and 3+1 times on the inner loops. Therefore, the total is 22.\n",
    "\n",
    "Their answer is _12_.\n",
    "\n",
    "They come up with this by counting statements like `range(4)` as requiring _one evaluation_ and not as requiring _four evaluations_. Nobody in the forums complained about this, but I would certainly say that resolving `range(4)` would require four instructions, not one. "
   ]
  },
  {
   "cell_type": "code",
   "execution_count": 39,
   "metadata": {
    "collapsed": false
   },
   "outputs": [
    {
     "data": {
      "text/plain": [
       "6.0"
      ]
     },
     "execution_count": 39,
     "metadata": {},
     "output_type": "execute_result"
    }
   ],
   "source": [
    "scipy.special.binom(4, 2)"
   ]
  },
  {
   "cell_type": "markdown",
   "metadata": {},
   "source": [
    "## Problem 9"
   ]
  },
  {
   "cell_type": "markdown",
   "metadata": {},
   "source": [
    "Write a function evaluate how many evaluations `click(n)` requires (presumably under their strange rules)."
   ]
  },
  {
   "cell_type": "code",
   "execution_count": 40,
   "metadata": {
    "collapsed": true
   },
   "outputs": [],
   "source": [
    "def count(n):\n",
    "    nprints = 1 + scipy.special.binom(n, 2)\n",
    "    nranges = 1                               # outer\n",
    "    nranges += n                              # inner\n",
    "    return nprints + nranges"
   ]
  },
  {
   "cell_type": "code",
   "execution_count": 41,
   "metadata": {
    "collapsed": false
   },
   "outputs": [
    {
     "data": {
      "text/plain": [
       "12.0"
      ]
     },
     "execution_count": 41,
     "metadata": {},
     "output_type": "execute_result"
    }
   ],
   "source": [
    "count(4)"
   ]
  },
  {
   "cell_type": "code",
   "execution_count": 42,
   "metadata": {
    "collapsed": true
   },
   "outputs": [],
   "source": [
    "# w/o scipy\n",
    "def count(n):\n",
    "    if n == 1:\n",
    "        return 3\n",
    "    \n",
    "    def factorial(n):\n",
    "        if n == 0:\n",
    "            return 1\n",
    "        return n * factorial(n-1)\n",
    "    \n",
    "    nprints = 1 + factorial(n) / (factorial(n-2) * 2)\n",
    "    nranges = 1 + n\n",
    "    return nprints + nranges"
   ]
  },
  {
   "cell_type": "code",
   "execution_count": 43,
   "metadata": {
    "collapsed": false
   },
   "outputs": [
    {
     "data": {
      "text/plain": [
       "12"
      ]
     },
     "execution_count": 43,
     "metadata": {},
     "output_type": "execute_result"
    }
   ],
   "source": [
    "count(4)"
   ]
  },
  {
   "cell_type": "code",
   "execution_count": 44,
   "metadata": {
    "collapsed": false
   },
   "outputs": [
    {
     "data": {
      "text/plain": [
       "8"
      ]
     },
     "execution_count": 44,
     "metadata": {},
     "output_type": "execute_result"
    }
   ],
   "source": [
    "count(3)"
   ]
  },
  {
   "cell_type": "code",
   "execution_count": 45,
   "metadata": {
    "collapsed": false
   },
   "outputs": [],
   "source": [
    "# re-def ...\n",
    "def clique(n):\n",
    "    print \"in a clique...\"\n",
    "    print \"range eval outer\"\n",
    "    for j in range(n):\n",
    "        print \"range eval inner\"\n",
    "        for i in range(j):\n",
    "            print i, \"is friends with\", j"
   ]
  },
  {
   "cell_type": "code",
   "execution_count": 46,
   "metadata": {
    "collapsed": false
   },
   "outputs": [
    {
     "name": "stdout",
     "output_type": "stream",
     "text": [
      "in a clique...\n",
      "range eval outer\n",
      "range eval inner\n",
      "range eval inner\n",
      "0 is friends with 1\n",
      "range eval inner\n",
      "0 is friends with 2\n",
      "1 is friends with 2\n",
      "range eval inner\n",
      "0 is friends with 3\n",
      "1 is friends with 3\n",
      "2 is friends with 3\n"
     ]
    }
   ],
   "source": [
    "clique(4)"
   ]
  },
  {
   "cell_type": "code",
   "execution_count": 47,
   "metadata": {
    "collapsed": true
   },
   "outputs": [],
   "source": [
    "# re-def again ...\n",
    "def clique(n):\n",
    "    l = [\"in a clique...\"]\n",
    "    l.extend([\"range eval outer\"])\n",
    "    for j in range(n):\n",
    "        l.extend([\"range eval inner\"])\n",
    "        for i in range(j):\n",
    "            s = i, \"is friends with\", j\n",
    "            l.extend([s])\n",
    "    return l"
   ]
  },
  {
   "cell_type": "code",
   "execution_count": 48,
   "metadata": {
    "collapsed": false
   },
   "outputs": [],
   "source": [
    "def tester(n):\n",
    "    ss = clique(n)\n",
    "    # print ss\n",
    "    print len(ss)\n",
    "    print count(n)"
   ]
  },
  {
   "cell_type": "code",
   "execution_count": 49,
   "metadata": {
    "collapsed": false
   },
   "outputs": [
    {
     "name": "stdout",
     "output_type": "stream",
     "text": [
      "12\n",
      "12\n"
     ]
    }
   ],
   "source": [
    "tester(4)"
   ]
  },
  {
   "cell_type": "code",
   "execution_count": 50,
   "metadata": {
    "collapsed": true
   },
   "outputs": [],
   "source": [
    "# but, wrong?...\n",
    "def course_count(n):\n",
    "    c = 2 + n + n * (n - 1) / 2\n",
    "    return c"
   ]
  },
  {
   "cell_type": "code",
   "execution_count": 51,
   "metadata": {
    "collapsed": true
   },
   "outputs": [],
   "source": [
    "def course_tester(n):\n",
    "    ss = clique(n)\n",
    "    # print ss\n",
    "    print len(ss)\n",
    "    print course_count(n)"
   ]
  },
  {
   "cell_type": "code",
   "execution_count": 52,
   "metadata": {
    "collapsed": false
   },
   "outputs": [
    {
     "name": "stdout",
     "output_type": "stream",
     "text": [
      "12\n",
      "12\n"
     ]
    }
   ],
   "source": [
    "course_tester(4)"
   ]
  },
  {
   "cell_type": "code",
   "execution_count": 53,
   "metadata": {
    "collapsed": false
   },
   "outputs": [
    {
     "name": "stdout",
     "output_type": "stream",
     "text": [
      "5\n",
      "5\n",
      "5\n",
      "5\n",
      "8\n",
      "8\n",
      "8\n",
      "8\n",
      "12\n",
      "12\n",
      "12\n",
      "12\n",
      "17\n",
      "17\n",
      "17\n",
      "17\n",
      "23\n",
      "23\n",
      "23\n",
      "23\n"
     ]
    }
   ],
   "source": [
    "for i in range(2, 7):\n",
    "    tester(i)\n",
    "    course_tester(i)"
   ]
  },
  {
   "cell_type": "code",
   "execution_count": 54,
   "metadata": {
    "collapsed": false
   },
   "outputs": [
    {
     "name": "stdout",
     "output_type": "stream",
     "text": [
      "True\n"
     ]
    }
   ],
   "source": [
    "ll = []\n",
    "for i in range(2, 100):\n",
    "    ll.append(count(n) == course_count(n))\n",
    "    \n",
    "print all(ll)"
   ]
  },
  {
   "cell_type": "markdown",
   "metadata": {},
   "source": [
    "So, my solution was correct, but it somehow could not be defined inside their Python, even though it runs here. Theirs is much more elegant, either way"
   ]
  },
  {
   "cell_type": "markdown",
   "metadata": {},
   "source": [
    "## Problem 10"
   ]
  },
  {
   "cell_type": "markdown",
   "metadata": {
    "collapsed": true
   },
   "source": [
    "Find an Eulerian tour for a graph represented as a list of tuples."
   ]
  },
  {
   "cell_type": "code",
   "execution_count": 55,
   "metadata": {
    "collapsed": true
   },
   "outputs": [],
   "source": [
    "def get_degree_dict(tour):\n",
    "    \"\"\"\n",
    "    tour is a list of tuples representing edges between nodes\n",
    "    \n",
    "    return a dictionary keyed by node containing the degree of \n",
    "    each key\n",
    "    \"\"\"\n",
    "    degree = {}\n",
    "    for x, y in tour:\n",
    "        degree[x] = degree.get(x, 0) + 1\n",
    "        degree[y] = degree.get(y, 0) + 1\n",
    "    return degree\n",
    "\n",
    "def get_degree_from_dict(degree):\n",
    "    max_d = 0\n",
    "    for k, v in degree.iteritems():\n",
    "        if v > max_d:\n",
    "            max_d = v\n",
    "    return max_d\n",
    "\n",
    "def get_degree_from_tour(tour):\n",
    "    degdict = get_degree_dict(tour)\n",
    "    max_d = get_degree_from_dict(degdict)\n",
    "    return max_d\n",
    "\n",
    "def count_odd_degree_nodes(tour):\n",
    "    degdict = get_degree_dict(tour)\n",
    "    num_odd = 0\n",
    "    for k, v in degdict.iteritems():\n",
    "        if v % 2 == 1:\n",
    "            num_odd += 1\n",
    "    return num_odd"
   ]
  },
  {
   "cell_type": "code",
   "execution_count": 71,
   "metadata": {
    "collapsed": true
   },
   "outputs": [],
   "source": [
    "# Find Eulerian Tour\n",
    "#\n",
    "# Write a function that takes a graph, represented as a list of tuples,\n",
    "# and returns a list of nodes that you would follow on an Eulerian tour.\n",
    "# \n",
    "# e.g., for [(1,2), (2,3), (3,1)]\n",
    "# a possible tour is [1, 2, 3, 1]\n",
    "\n",
    "def find_eulerian_tour(graph):\n",
    "    \n",
    "    if len(graph) == 0:\n",
    "        return []\n",
    "    \n",
    "    gg = graph[::]\n",
    "    print gg\n",
    "    \n",
    "    degree_dict = {}\n",
    "    for x, y in gg:\n",
    "        degree_dict[x] = degree_dict.get(x, 0) + 1\n",
    "        degree_dict[y] = degree_dict.get(y, 0) + 1\n",
    "    print(degree_dict)\n",
    "        \n",
    "    odds = []\n",
    "    for k, v in degree_dict.iteritems():\n",
    "        if v % 2 == 1:\n",
    "            odds.append(k)\n",
    "    num_odd = len(odds)\n",
    "    print(odds)\n",
    "        \n",
    "    nodes = []\n",
    "    if num_odd == 0:\n",
    "        edge = gg.pop(0)\n",
    "        nodes.append(edge[0])\n",
    "        nodes.append(edge[1])\n",
    "    elif num_odd == 2:\n",
    "        first_odd_edge = None\n",
    "        for edge in gg:\n",
    "            if edge[0] in odds:\n",
    "                first_odd_index = gg.index(edge)\n",
    "                first_odd_edge = gg.pop(first_odd_index)\n",
    "                break\n",
    "            elif edge[1] in odds:\n",
    "                first_odd_index = gg.index(edge)\n",
    "                first_odd_edge = gg.pop(first_odd_index)\n",
    "                first_odd_edge = first_odd_edge[1], first_odd_edge[0]\n",
    "                break\n",
    "        nodes.append(first_odd_edge[0])\n",
    "        nodes.append(first_odd_edge[1])\n",
    "    else:\n",
    "        return nodes\n",
    "    \n",
    "    print \"Starting steps: \", nodes\n",
    "    print \"\"\n",
    "    \n",
    "    while len(gg) > 0:\n",
    "        possible_next_steps = []\n",
    "        \n",
    "        for edge in gg:\n",
    "            if edge[0] == nodes[-1] or edge[1] == nodes[-1]:\n",
    "                possible_next_steps.append(edge)\n",
    "                \n",
    "        # connected check\n",
    "        connected = False\n",
    "        for edge in gg:\n",
    "            for node in nodes:\n",
    "                if edge[0] == node or edge[1] == node:\n",
    "                    connected = True\n",
    "                    break\n",
    "        if not connected:\n",
    "            print \"Not connected!\"\n",
    "            return nodes\n",
    "                 \n",
    "        back_steps = []\n",
    "        while len(possible_next_steps) == 0:\n",
    "            print \"Backing off...\"\n",
    "            print nodes\n",
    "            print gg\n",
    "            edge = nodes.pop(-1), nodes[-1]\n",
    "            back_steps.append(edge)\n",
    "            print \"Checking for possible paths...\"\n",
    "            for edge in gg:\n",
    "                if edge[0] == nodes[-1] or edge[1] == nodes[-1]:\n",
    "                    possible_next_steps.append(edge)\n",
    "\n",
    "        while len(back_steps) > 0:\n",
    "            edge = back_steps.pop()\n",
    "            gg.append(edge)\n",
    "        \n",
    "        print \"Possible next steps...\", possible_next_steps\n",
    "        print \"Nodes: \", nodes\n",
    "        print \"Graph: \", gg\n",
    "        \n",
    "        next_edge_index = gg.index(possible_next_steps[0])\n",
    "        edge = gg.pop(next_edge_index)\n",
    "        print \"Next edge: \", edge\n",
    "        if edge[0] == nodes[-1]:\n",
    "            nodes.append(edge[1])\n",
    "        else:\n",
    "            nodes.append(edge[0])\n",
    "        print \"New tour: \", nodes\n",
    "        \n",
    "        print \"\"\n",
    "             \n",
    "    return nodes"
   ]
  },
  {
   "cell_type": "code",
   "execution_count": 70,
   "metadata": {
    "collapsed": false
   },
   "outputs": [
    {
     "name": "stdout",
     "output_type": "stream",
     "text": [
      "[(0, 1), (1, 5), (1, 7), (4, 5), (4, 8), (1, 6), (3, 7), (5, 9), (2, 4), (0, 4), (2, 5), (3, 6), (8, 9)]\n",
      "{0: 2, 1: 4, 2: 2, 3: 2, 4: 4, 5: 4, 6: 2, 7: 2, 8: 2, 9: 2}\n",
      "[]\n",
      "Starting steps:  [0, 1]\n",
      "\n",
      "Possible next steps... [(1, 5), (1, 7), (1, 6)]\n",
      "Nodes:  [0, 1]\n",
      "Graph:  [(1, 5), (1, 7), (4, 5), (4, 8), (1, 6), (3, 7), (5, 9), (2, 4), (0, 4), (2, 5), (3, 6), (8, 9)]\n",
      "Next edge:  (1, 5)\n",
      "New tour:  [0, 1, 5]\n",
      "\n",
      "Possible next steps... [(4, 5), (5, 9), (2, 5)]\n",
      "Nodes:  [0, 1, 5]\n",
      "Graph:  [(1, 7), (4, 5), (4, 8), (1, 6), (3, 7), (5, 9), (2, 4), (0, 4), (2, 5), (3, 6), (8, 9)]\n",
      "Next edge:  (4, 5)\n",
      "New tour:  [0, 1, 5, 4]\n",
      "\n",
      "Possible next steps... [(4, 8), (2, 4), (0, 4)]\n",
      "Nodes:  [0, 1, 5, 4]\n",
      "Graph:  [(1, 7), (4, 8), (1, 6), (3, 7), (5, 9), (2, 4), (0, 4), (2, 5), (3, 6), (8, 9)]\n",
      "Next edge:  (4, 8)\n",
      "New tour:  [0, 1, 5, 4, 8]\n",
      "\n",
      "Possible next steps... [(8, 9)]\n",
      "Nodes:  [0, 1, 5, 4, 8]\n",
      "Graph:  [(1, 7), (1, 6), (3, 7), (5, 9), (2, 4), (0, 4), (2, 5), (3, 6), (8, 9)]\n",
      "Next edge:  (8, 9)\n",
      "New tour:  [0, 1, 5, 4, 8, 9]\n",
      "\n",
      "Possible next steps... [(5, 9)]\n",
      "Nodes:  [0, 1, 5, 4, 8, 9]\n",
      "Graph:  [(1, 7), (1, 6), (3, 7), (5, 9), (2, 4), (0, 4), (2, 5), (3, 6)]\n",
      "Next edge:  (5, 9)\n",
      "New tour:  [0, 1, 5, 4, 8, 9, 5]\n",
      "\n",
      "Possible next steps... [(2, 5)]\n",
      "Nodes:  [0, 1, 5, 4, 8, 9, 5]\n",
      "Graph:  [(1, 7), (1, 6), (3, 7), (2, 4), (0, 4), (2, 5), (3, 6)]\n",
      "Next edge:  (2, 5)\n",
      "New tour:  [0, 1, 5, 4, 8, 9, 5, 2]\n",
      "\n",
      "Possible next steps... [(2, 4)]\n",
      "Nodes:  [0, 1, 5, 4, 8, 9, 5, 2]\n",
      "Graph:  [(1, 7), (1, 6), (3, 7), (2, 4), (0, 4), (3, 6)]\n",
      "Next edge:  (2, 4)\n",
      "New tour:  [0, 1, 5, 4, 8, 9, 5, 2, 4]\n",
      "\n",
      "Possible next steps... [(0, 4)]\n",
      "Nodes:  [0, 1, 5, 4, 8, 9, 5, 2, 4]\n",
      "Graph:  [(1, 7), (1, 6), (3, 7), (0, 4), (3, 6)]\n",
      "Next edge:  (0, 4)\n",
      "New tour:  [0, 1, 5, 4, 8, 9, 5, 2, 4, 0]\n",
      "\n",
      "Backing off...\n",
      "[0, 1, 5, 4, 8, 9, 5, 2, 4, 0]\n",
      "[(1, 7), (1, 6), (3, 7), (3, 6)]\n",
      "Checking for possible paths...\n",
      "Backing off...\n",
      "[0, 1, 5, 4, 8, 9, 5, 2, 4]\n",
      "[(1, 7), (1, 6), (3, 7), (3, 6)]\n",
      "Checking for possible paths...\n",
      "Backing off...\n",
      "[0, 1, 5, 4, 8, 9, 5, 2]\n",
      "[(1, 7), (1, 6), (3, 7), (3, 6)]\n",
      "Checking for possible paths...\n",
      "Backing off...\n",
      "[0, 1, 5, 4, 8, 9, 5]\n",
      "[(1, 7), (1, 6), (3, 7), (3, 6)]\n",
      "Checking for possible paths...\n",
      "Backing off...\n",
      "[0, 1, 5, 4, 8, 9]\n",
      "[(1, 7), (1, 6), (3, 7), (3, 6)]\n",
      "Checking for possible paths...\n",
      "Backing off...\n",
      "[0, 1, 5, 4, 8]\n",
      "[(1, 7), (1, 6), (3, 7), (3, 6)]\n",
      "Checking for possible paths...\n",
      "Backing off...\n",
      "[0, 1, 5, 4]\n",
      "[(1, 7), (1, 6), (3, 7), (3, 6)]\n",
      "Checking for possible paths...\n",
      "Backing off...\n",
      "[0, 1, 5]\n",
      "[(1, 7), (1, 6), (3, 7), (3, 6)]\n",
      "Checking for possible paths...\n",
      "Possible next steps... [(1, 7), (1, 6)]\n",
      "Nodes:  [0, 1]\n",
      "Graph:  [(1, 7), (1, 6), (3, 7), (3, 6), (5, 1), (4, 5), (8, 4), (9, 8), (5, 9), (2, 5), (4, 2), (0, 4)]\n",
      "Next edge:  (1, 7)\n",
      "New tour:  [0, 1, 7]\n",
      "\n",
      "Possible next steps... [(3, 7)]\n",
      "Nodes:  [0, 1, 7]\n",
      "Graph:  [(1, 6), (3, 7), (3, 6), (5, 1), (4, 5), (8, 4), (9, 8), (5, 9), (2, 5), (4, 2), (0, 4)]\n",
      "Next edge:  (3, 7)\n",
      "New tour:  [0, 1, 7, 3]\n",
      "\n",
      "Possible next steps... [(3, 6)]\n",
      "Nodes:  [0, 1, 7, 3]\n",
      "Graph:  [(1, 6), (3, 6), (5, 1), (4, 5), (8, 4), (9, 8), (5, 9), (2, 5), (4, 2), (0, 4)]\n",
      "Next edge:  (3, 6)\n",
      "New tour:  [0, 1, 7, 3, 6]\n",
      "\n",
      "Possible next steps... [(1, 6)]\n",
      "Nodes:  [0, 1, 7, 3, 6]\n",
      "Graph:  [(1, 6), (5, 1), (4, 5), (8, 4), (9, 8), (5, 9), (2, 5), (4, 2), (0, 4)]\n",
      "Next edge:  (1, 6)\n",
      "New tour:  [0, 1, 7, 3, 6, 1]\n",
      "\n",
      "Possible next steps... [(5, 1)]\n",
      "Nodes:  [0, 1, 7, 3, 6, 1]\n",
      "Graph:  [(5, 1), (4, 5), (8, 4), (9, 8), (5, 9), (2, 5), (4, 2), (0, 4)]\n",
      "Next edge:  (5, 1)\n",
      "New tour:  [0, 1, 7, 3, 6, 1, 5]\n",
      "\n",
      "Possible next steps... [(4, 5), (5, 9), (2, 5)]\n",
      "Nodes:  [0, 1, 7, 3, 6, 1, 5]\n",
      "Graph:  [(4, 5), (8, 4), (9, 8), (5, 9), (2, 5), (4, 2), (0, 4)]\n",
      "Next edge:  (4, 5)\n",
      "New tour:  [0, 1, 7, 3, 6, 1, 5, 4]\n",
      "\n",
      "Possible next steps... [(8, 4), (4, 2), (0, 4)]\n",
      "Nodes:  [0, 1, 7, 3, 6, 1, 5, 4]\n",
      "Graph:  [(8, 4), (9, 8), (5, 9), (2, 5), (4, 2), (0, 4)]\n",
      "Next edge:  (8, 4)\n",
      "New tour:  [0, 1, 7, 3, 6, 1, 5, 4, 8]\n",
      "\n",
      "Possible next steps... [(9, 8)]\n",
      "Nodes:  [0, 1, 7, 3, 6, 1, 5, 4, 8]\n",
      "Graph:  [(9, 8), (5, 9), (2, 5), (4, 2), (0, 4)]\n",
      "Next edge:  (9, 8)\n",
      "New tour:  [0, 1, 7, 3, 6, 1, 5, 4, 8, 9]\n",
      "\n",
      "Possible next steps... [(5, 9)]\n",
      "Nodes:  [0, 1, 7, 3, 6, 1, 5, 4, 8, 9]\n",
      "Graph:  [(5, 9), (2, 5), (4, 2), (0, 4)]\n",
      "Next edge:  (5, 9)\n",
      "New tour:  [0, 1, 7, 3, 6, 1, 5, 4, 8, 9, 5]\n",
      "\n",
      "Possible next steps... [(2, 5)]\n",
      "Nodes:  [0, 1, 7, 3, 6, 1, 5, 4, 8, 9, 5]\n",
      "Graph:  [(2, 5), (4, 2), (0, 4)]\n",
      "Next edge:  (2, 5)\n",
      "New tour:  [0, 1, 7, 3, 6, 1, 5, 4, 8, 9, 5, 2]\n",
      "\n",
      "Possible next steps... [(4, 2)]\n",
      "Nodes:  [0, 1, 7, 3, 6, 1, 5, 4, 8, 9, 5, 2]\n",
      "Graph:  [(4, 2), (0, 4)]\n",
      "Next edge:  (4, 2)\n",
      "New tour:  [0, 1, 7, 3, 6, 1, 5, 4, 8, 9, 5, 2, 4]\n",
      "\n",
      "Possible next steps... [(0, 4)]\n",
      "Nodes:  [0, 1, 7, 3, 6, 1, 5, 4, 8, 9, 5, 2, 4]\n",
      "Graph:  [(0, 4)]\n",
      "Next edge:  (0, 4)\n",
      "New tour:  [0, 1, 7, 3, 6, 1, 5, 4, 8, 9, 5, 2, 4, 0]\n",
      "\n",
      "[0, 1, 7, 3, 6, 1, 5, 4, 8, 9, 5, 2, 4, 0]\n"
     ]
    }
   ],
   "source": [
    "graph = [(0, 1), (1, 5), (1, 7), (4, 5), (4, 8), (1, 6), (3, 7), \n",
    "         (5, 9), (2, 4), (0, 4), (2, 5), (3, 6), (8, 9)]\n",
    "nodes = find_eulerian_tour(graph)\n",
    "print(nodes)"
   ]
  },
  {
   "cell_type": "markdown",
   "metadata": {},
   "source": [
    "----  \n",
    "  \n",
    "**`FAILURE`**`: Test case input: [(1, 2), (2, 3), (3, 1)].`  \n",
    "\n",
    "\t\t\t\tExpected result: ...  \n",
    "\n",
    "\n",
    "**`FAILURE`**`: Test case input: [(0, 1), (1, 5), (1, 7), (4, 5),\n",
    "(4, 8), (1, 6), (3, 7), (5, 9),\n",
    "(2, 4), (0, 4), (2, 5), (3, 6), (8, 9)].`  \n",
    "\n",
    "\t\t\t\tExpected result: ...  \n",
    "\n",
    "\n",
    "**`FAILURE`**`: Test case input: [(1, 13), (1, 6), (6, 11), (3, 13),\n",
    "(8, 13), (0, 6), (8, 9),(5, 9), (2, 6), (6, 10), (7, 9),\n",
    "(1, 12), (4, 12), (5, 14), (0, 1),  (2, 3), (4, 11), (6, 9),\n",
    "(7, 14),  (10, 13)].`  \n",
    "\n",
    "\t\t\t\tExpected result: ...  \n",
    "\n",
    "\n",
    "**`FAILURE`**`: Test case input: [(8, 16), (8, 18), (16, 17), (18, 19),\n",
    "(3, 17), (13, 17), (5, 13),(3, 4), (0, 18), (3, 14), (11, 14),\n",
    "(1, 8), (1, 9), (4, 12), (2, 19),(1, 10), (7, 9), (13, 15),\n",
    "(6, 12), (0, 1), (2, 11), (3, 18), (5, 6), (7, 15), (8, 13), (10, 17)].`  \n",
    "\n",
    "\t\t\t\tExpected result: ...  \n",
    "\n",
    "------------------  \n",
    "**`You passed 0 out of 4 test cases`**  "
   ]
  },
  {
   "cell_type": "code",
   "execution_count": 57,
   "metadata": {
    "collapsed": false
   },
   "outputs": [
    {
     "name": "stdout",
     "output_type": "stream",
     "text": [
      "[(1, 2), (2, 3), (3, 1)]\n",
      "{1: 2, 2: 2, 3: 2}\n",
      "[]\n",
      "Starting steps:  [1, 2]\n",
      "\n",
      "Possible next steps... [(2, 3)]\n",
      "Nodes:  [1, 2]\n",
      "Graph:  [(2, 3), (3, 1)]\n",
      "Next edge:  (2, 3)\n",
      "New tour:  [1, 2, 3]\n",
      "\n",
      "Possible next steps... [(3, 1)]\n",
      "Nodes:  [1, 2, 3]\n",
      "Graph:  [(3, 1)]\n",
      "Next edge:  (3, 1)\n",
      "New tour:  [1, 2, 3, 1]\n",
      "\n",
      "[1, 2, 3, 1]\n",
      "True\n"
     ]
    }
   ],
   "source": [
    "graph = [(1, 2), (2, 3), (3, 1)]\n",
    "nodes = find_eulerian_tour(graph)\n",
    "print(nodes)\n",
    "expected_tour = [1, 2, 3, 1]\n",
    "print nodes == expected_tour"
   ]
  },
  {
   "cell_type": "code",
   "execution_count": 58,
   "metadata": {
    "collapsed": false
   },
   "outputs": [
    {
     "name": "stdout",
     "output_type": "stream",
     "text": [
      "[(1, 2), (3, 1), (2, 3)]\n",
      "{1: 2, 2: 2, 3: 2}\n",
      "[]\n",
      "Starting steps:  [1, 2]\n",
      "\n",
      "Possible next steps... [(2, 3)]\n",
      "Nodes:  [1, 2]\n",
      "Graph:  [(3, 1), (2, 3)]\n",
      "Next edge:  (2, 3)\n",
      "New tour:  [1, 2, 3]\n",
      "\n",
      "Possible next steps... [(3, 1)]\n",
      "Nodes:  [1, 2, 3]\n",
      "Graph:  [(3, 1)]\n",
      "Next edge:  (3, 1)\n",
      "New tour:  [1, 2, 3, 1]\n",
      "\n",
      "[1, 2, 3, 1]\n",
      "True\n"
     ]
    }
   ],
   "source": [
    "graph = [(1, 2), (3, 1), (2, 3)]\n",
    "nodes = find_eulerian_tour(graph)\n",
    "print(nodes)\n",
    "expected_tour = [1, 2, 3, 1]\n",
    "print nodes == expected_tour"
   ]
  },
  {
   "cell_type": "code",
   "execution_count": 59,
   "metadata": {
    "collapsed": false
   },
   "outputs": [
    {
     "name": "stdout",
     "output_type": "stream",
     "text": [
      "[(1, 2), (1, 6), (6, 5), (2, 5), (5, 4), (2, 3), (3, 4)]\n",
      "{1: 2, 2: 3, 3: 2, 4: 2, 5: 3, 6: 2}\n",
      "[2, 5]\n",
      "Starting steps:  [2, 1]\n",
      "\n",
      "Possible next steps... [(1, 6)]\n",
      "Nodes:  [2, 1]\n",
      "Graph:  [(1, 6), (6, 5), (2, 5), (5, 4), (2, 3), (3, 4)]\n",
      "Next edge:  (1, 6)\n",
      "New tour:  [2, 1, 6]\n",
      "\n",
      "Possible next steps... [(6, 5)]\n",
      "Nodes:  [2, 1, 6]\n",
      "Graph:  [(6, 5), (2, 5), (5, 4), (2, 3), (3, 4)]\n",
      "Next edge:  (6, 5)\n",
      "New tour:  [2, 1, 6, 5]\n",
      "\n",
      "Possible next steps... [(2, 5), (5, 4)]\n",
      "Nodes:  [2, 1, 6, 5]\n",
      "Graph:  [(2, 5), (5, 4), (2, 3), (3, 4)]\n",
      "Next edge:  (2, 5)\n",
      "New tour:  [2, 1, 6, 5, 2]\n",
      "\n",
      "Possible next steps... [(2, 3)]\n",
      "Nodes:  [2, 1, 6, 5, 2]\n",
      "Graph:  [(5, 4), (2, 3), (3, 4)]\n",
      "Next edge:  (2, 3)\n",
      "New tour:  [2, 1, 6, 5, 2, 3]\n",
      "\n",
      "Possible next steps... [(3, 4)]\n",
      "Nodes:  [2, 1, 6, 5, 2, 3]\n",
      "Graph:  [(5, 4), (3, 4)]\n",
      "Next edge:  (3, 4)\n",
      "New tour:  [2, 1, 6, 5, 2, 3, 4]\n",
      "\n",
      "Possible next steps... [(5, 4)]\n",
      "Nodes:  [2, 1, 6, 5, 2, 3, 4]\n",
      "Graph:  [(5, 4)]\n",
      "Next edge:  (5, 4)\n",
      "New tour:  [2, 1, 6, 5, 2, 3, 4, 5]\n",
      "\n",
      "[2, 1, 6, 5, 2, 3, 4, 5]\n",
      "True\n"
     ]
    }
   ],
   "source": [
    "graph = [(1, 2), (1, 6), (6, 5), (2, 5), (5, 4), (2, 3), (3, 4)]\n",
    "nodes = find_eulerian_tour(graph)\n",
    "print(nodes)\n",
    "expected_tour = [2, 1, 6, 5, 2, 3, 4, 5]\n",
    "print nodes == expected_tour"
   ]
  },
  {
   "cell_type": "code",
   "execution_count": 60,
   "metadata": {
    "collapsed": false
   },
   "outputs": [
    {
     "name": "stdout",
     "output_type": "stream",
     "text": [
      "[(1, 2), (2, 3), (3, 1), (1, 5), (5, 2), (5, 3), (3, 4), (4, 2)]\n",
      "{1: 3, 2: 4, 3: 4, 4: 2, 5: 3}\n",
      "[1, 5]\n",
      "Starting steps:  [1, 2]\n",
      "\n",
      "Possible next steps... [(2, 3), (5, 2), (4, 2)]\n",
      "Nodes:  [1, 2]\n",
      "Graph:  [(2, 3), (3, 1), (1, 5), (5, 2), (5, 3), (3, 4), (4, 2)]\n",
      "Next edge:  (2, 3)\n",
      "New tour:  [1, 2, 3]\n",
      "\n",
      "Possible next steps... [(3, 1), (5, 3), (3, 4)]\n",
      "Nodes:  [1, 2, 3]\n",
      "Graph:  [(3, 1), (1, 5), (5, 2), (5, 3), (3, 4), (4, 2)]\n",
      "Next edge:  (3, 1)\n",
      "New tour:  [1, 2, 3, 1]\n",
      "\n",
      "Possible next steps... [(1, 5)]\n",
      "Nodes:  [1, 2, 3, 1]\n",
      "Graph:  [(1, 5), (5, 2), (5, 3), (3, 4), (4, 2)]\n",
      "Next edge:  (1, 5)\n",
      "New tour:  [1, 2, 3, 1, 5]\n",
      "\n",
      "Possible next steps... [(5, 2), (5, 3)]\n",
      "Nodes:  [1, 2, 3, 1, 5]\n",
      "Graph:  [(5, 2), (5, 3), (3, 4), (4, 2)]\n",
      "Next edge:  (5, 2)\n",
      "New tour:  [1, 2, 3, 1, 5, 2]\n",
      "\n",
      "Possible next steps... [(4, 2)]\n",
      "Nodes:  [1, 2, 3, 1, 5, 2]\n",
      "Graph:  [(5, 3), (3, 4), (4, 2)]\n",
      "Next edge:  (4, 2)\n",
      "New tour:  [1, 2, 3, 1, 5, 2, 4]\n",
      "\n",
      "Possible next steps... [(3, 4)]\n",
      "Nodes:  [1, 2, 3, 1, 5, 2, 4]\n",
      "Graph:  [(5, 3), (3, 4)]\n",
      "Next edge:  (3, 4)\n",
      "New tour:  [1, 2, 3, 1, 5, 2, 4, 3]\n",
      "\n",
      "Possible next steps... [(5, 3)]\n",
      "Nodes:  [1, 2, 3, 1, 5, 2, 4, 3]\n",
      "Graph:  [(5, 3)]\n",
      "Next edge:  (5, 3)\n",
      "New tour:  [1, 2, 3, 1, 5, 2, 4, 3, 5]\n",
      "\n",
      "[1, 2, 3, 1, 5, 2, 4, 3, 5]\n",
      "True\n"
     ]
    }
   ],
   "source": [
    "graph = [(1, 2), (2, 3), (3, 1), (1, 5), (5, 2), (5, 3), (3, 4), (4, 2)]\n",
    "nodes = find_eulerian_tour(graph)\n",
    "print(nodes)\n",
    "expected_tour = [1, 2, 3, 1, 5, 2, 4, 3, 5]\n",
    "print nodes == expected_tour"
   ]
  },
  {
   "cell_type": "code",
   "execution_count": 61,
   "metadata": {
    "collapsed": false
   },
   "outputs": [
    {
     "name": "stdout",
     "output_type": "stream",
     "text": [
      "[(1, 2), (3, 2), (3, 4), (5, 4), (5, 6), (6, 7), (1, 7)]\n",
      "{1: 2, 2: 2, 3: 2, 4: 2, 5: 2, 6: 2, 7: 2}\n",
      "[]\n",
      "Starting steps:  [1, 2]\n",
      "\n",
      "Possible next steps... [(3, 2)]\n",
      "Nodes:  [1, 2]\n",
      "Graph:  [(3, 2), (3, 4), (5, 4), (5, 6), (6, 7), (1, 7)]\n",
      "Next edge:  (3, 2)\n",
      "New tour:  [1, 2, 3]\n",
      "\n",
      "Possible next steps... [(3, 4)]\n",
      "Nodes:  [1, 2, 3]\n",
      "Graph:  [(3, 4), (5, 4), (5, 6), (6, 7), (1, 7)]\n",
      "Next edge:  (3, 4)\n",
      "New tour:  [1, 2, 3, 4]\n",
      "\n",
      "Possible next steps... [(5, 4)]\n",
      "Nodes:  [1, 2, 3, 4]\n",
      "Graph:  [(5, 4), (5, 6), (6, 7), (1, 7)]\n",
      "Next edge:  (5, 4)\n",
      "New tour:  [1, 2, 3, 4, 5]\n",
      "\n",
      "Possible next steps... [(5, 6)]\n",
      "Nodes:  [1, 2, 3, 4, 5]\n",
      "Graph:  [(5, 6), (6, 7), (1, 7)]\n",
      "Next edge:  (5, 6)\n",
      "New tour:  [1, 2, 3, 4, 5, 6]\n",
      "\n",
      "Possible next steps... [(6, 7)]\n",
      "Nodes:  [1, 2, 3, 4, 5, 6]\n",
      "Graph:  [(6, 7), (1, 7)]\n",
      "Next edge:  (6, 7)\n",
      "New tour:  [1, 2, 3, 4, 5, 6, 7]\n",
      "\n",
      "Possible next steps... [(1, 7)]\n",
      "Nodes:  [1, 2, 3, 4, 5, 6, 7]\n",
      "Graph:  [(1, 7)]\n",
      "Next edge:  (1, 7)\n",
      "New tour:  [1, 2, 3, 4, 5, 6, 7, 1]\n",
      "\n",
      "[1, 2, 3, 4, 5, 6, 7, 1]\n",
      "True\n"
     ]
    }
   ],
   "source": [
    "graph = [(1, 2), (3, 2), (3, 4), (5, 4), (5, 6), (6, 7), (1, 7)]\n",
    "nodes = find_eulerian_tour(graph)\n",
    "print(nodes)\n",
    "expected_tour = [1, 2, 3, 4, 5, 6, 7, 1]\n",
    "print nodes == expected_tour"
   ]
  },
  {
   "cell_type": "code",
   "execution_count": 62,
   "metadata": {
    "collapsed": false
   },
   "outputs": [
    {
     "name": "stdout",
     "output_type": "stream",
     "text": [
      "[(1, 2), (2, 4), (2, 5), (2, 3), (3, 5), (3, 4), (3, 1), (4, 5), (4, 1), (1, 5)]\n",
      "{1: 4, 2: 4, 3: 4, 4: 4, 5: 4}\n",
      "[]\n",
      "Starting steps:  [1, 2]\n",
      "\n",
      "Possible next steps... [(2, 4), (2, 5), (2, 3)]\n",
      "Nodes:  [1, 2]\n",
      "Graph:  [(2, 4), (2, 5), (2, 3), (3, 5), (3, 4), (3, 1), (4, 5), (4, 1), (1, 5)]\n",
      "Next edge:  (2, 4)\n",
      "New tour:  [1, 2, 4]\n",
      "\n",
      "Possible next steps... [(3, 4), (4, 5), (4, 1)]\n",
      "Nodes:  [1, 2, 4]\n",
      "Graph:  [(2, 5), (2, 3), (3, 5), (3, 4), (3, 1), (4, 5), (4, 1), (1, 5)]\n",
      "Next edge:  (3, 4)\n",
      "New tour:  [1, 2, 4, 3]\n",
      "\n",
      "Possible next steps... [(2, 3), (3, 5), (3, 1)]\n",
      "Nodes:  [1, 2, 4, 3]\n",
      "Graph:  [(2, 5), (2, 3), (3, 5), (3, 1), (4, 5), (4, 1), (1, 5)]\n",
      "Next edge:  (2, 3)\n",
      "New tour:  [1, 2, 4, 3, 2]\n",
      "\n",
      "Possible next steps... [(2, 5)]\n",
      "Nodes:  [1, 2, 4, 3, 2]\n",
      "Graph:  [(2, 5), (3, 5), (3, 1), (4, 5), (4, 1), (1, 5)]\n",
      "Next edge:  (2, 5)\n",
      "New tour:  [1, 2, 4, 3, 2, 5]\n",
      "\n",
      "Possible next steps... [(3, 5), (4, 5), (1, 5)]\n",
      "Nodes:  [1, 2, 4, 3, 2, 5]\n",
      "Graph:  [(3, 5), (3, 1), (4, 5), (4, 1), (1, 5)]\n",
      "Next edge:  (3, 5)\n",
      "New tour:  [1, 2, 4, 3, 2, 5, 3]\n",
      "\n",
      "Possible next steps... [(3, 1)]\n",
      "Nodes:  [1, 2, 4, 3, 2, 5, 3]\n",
      "Graph:  [(3, 1), (4, 5), (4, 1), (1, 5)]\n",
      "Next edge:  (3, 1)\n",
      "New tour:  [1, 2, 4, 3, 2, 5, 3, 1]\n",
      "\n",
      "Possible next steps... [(4, 1), (1, 5)]\n",
      "Nodes:  [1, 2, 4, 3, 2, 5, 3, 1]\n",
      "Graph:  [(4, 5), (4, 1), (1, 5)]\n",
      "Next edge:  (4, 1)\n",
      "New tour:  [1, 2, 4, 3, 2, 5, 3, 1, 4]\n",
      "\n",
      "Possible next steps... [(4, 5)]\n",
      "Nodes:  [1, 2, 4, 3, 2, 5, 3, 1, 4]\n",
      "Graph:  [(4, 5), (1, 5)]\n",
      "Next edge:  (4, 5)\n",
      "New tour:  [1, 2, 4, 3, 2, 5, 3, 1, 4, 5]\n",
      "\n",
      "Possible next steps... [(1, 5)]\n",
      "Nodes:  [1, 2, 4, 3, 2, 5, 3, 1, 4, 5]\n",
      "Graph:  [(1, 5)]\n",
      "Next edge:  (1, 5)\n",
      "New tour:  [1, 2, 4, 3, 2, 5, 3, 1, 4, 5, 1]\n",
      "\n",
      "[1, 2, 4, 3, 2, 5, 3, 1, 4, 5, 1]\n",
      "True\n"
     ]
    }
   ],
   "source": [
    "graph = [(1, 2), (2, 4), (2, 5), (2, 3), (3, 5), (3, 4), (3, 1), (4, 5), (4, 1), (1, 5)]\n",
    "nodes = find_eulerian_tour(graph)\n",
    "print(nodes)\n",
    "expected_tour = [1, 2, 4, 3, 2, 5, 3, 1, 4, 5, 1]\n",
    "print nodes == expected_tour"
   ]
  },
  {
   "cell_type": "code",
   "execution_count": 63,
   "metadata": {
    "collapsed": false
   },
   "outputs": [
    {
     "name": "stdout",
     "output_type": "stream",
     "text": [
      "[]\n",
      "True\n"
     ]
    }
   ],
   "source": [
    "graph = []\n",
    "nodes = find_eulerian_tour(graph)\n",
    "print(nodes)\n",
    "expected_tour = []\n",
    "print nodes == expected_tour"
   ]
  },
  {
   "cell_type": "code",
   "execution_count": 64,
   "metadata": {
    "collapsed": false
   },
   "outputs": [
    {
     "name": "stdout",
     "output_type": "stream",
     "text": [
      "[(1, 2)]\n",
      "{1: 1, 2: 1}\n",
      "[1, 2]\n",
      "Starting steps:  [1, 2]\n",
      "\n",
      "[1, 2]\n",
      "True\n"
     ]
    }
   ],
   "source": [
    "graph = [(1, 2)]\n",
    "nodes = find_eulerian_tour(graph)\n",
    "print(nodes)\n",
    "expected_tour = [1, 2]\n",
    "print nodes == expected_tour"
   ]
  },
  {
   "cell_type": "code",
   "execution_count": 65,
   "metadata": {
    "collapsed": false
   },
   "outputs": [
    {
     "name": "stdout",
     "output_type": "stream",
     "text": [
      "[(1, 2), (2, 3), (3, 4), (4, 1), (1, 5), (5, 3)]\n",
      "{1: 3, 2: 2, 3: 3, 4: 2, 5: 2}\n",
      "[1, 3]\n",
      "Starting steps:  [1, 2]\n",
      "\n",
      "Possible next steps... [(2, 3)]\n",
      "Nodes:  [1, 2]\n",
      "Graph:  [(2, 3), (3, 4), (4, 1), (1, 5), (5, 3)]\n",
      "Next edge:  (2, 3)\n",
      "New tour:  [1, 2, 3]\n",
      "\n",
      "Possible next steps... [(3, 4), (5, 3)]\n",
      "Nodes:  [1, 2, 3]\n",
      "Graph:  [(3, 4), (4, 1), (1, 5), (5, 3)]\n",
      "Next edge:  (3, 4)\n",
      "New tour:  [1, 2, 3, 4]\n",
      "\n",
      "Possible next steps... [(4, 1)]\n",
      "Nodes:  [1, 2, 3, 4]\n",
      "Graph:  [(4, 1), (1, 5), (5, 3)]\n",
      "Next edge:  (4, 1)\n",
      "New tour:  [1, 2, 3, 4, 1]\n",
      "\n",
      "Possible next steps... [(1, 5)]\n",
      "Nodes:  [1, 2, 3, 4, 1]\n",
      "Graph:  [(1, 5), (5, 3)]\n",
      "Next edge:  (1, 5)\n",
      "New tour:  [1, 2, 3, 4, 1, 5]\n",
      "\n",
      "Possible next steps... [(5, 3)]\n",
      "Nodes:  [1, 2, 3, 4, 1, 5]\n",
      "Graph:  [(5, 3)]\n",
      "Next edge:  (5, 3)\n",
      "New tour:  [1, 2, 3, 4, 1, 5, 3]\n",
      "\n",
      "[1, 2, 3, 4, 1, 5, 3]\n",
      "True\n"
     ]
    }
   ],
   "source": [
    "graph = [(1, 2), (2, 3), (3, 4), (4, 1), (1, 5), (5, 3)]\n",
    "nodes = find_eulerian_tour(graph)\n",
    "print(nodes)\n",
    "expected_tour = [1, 2, 3, 4, 1, 5, 3]\n",
    "print nodes == expected_tour"
   ]
  },
  {
   "cell_type": "code",
   "execution_count": 66,
   "metadata": {
    "collapsed": false
   },
   "outputs": [
    {
     "name": "stdout",
     "output_type": "stream",
     "text": [
      "[(1, 1)]\n",
      "{1: 2}\n",
      "[]\n",
      "Starting steps:  [1, 1]\n",
      "\n",
      "[1, 1]\n",
      "True\n"
     ]
    }
   ],
   "source": [
    "graph = [(1, 1)]\n",
    "nodes = find_eulerian_tour(graph)\n",
    "print(nodes)\n",
    "expected_tour = [1, 1]\n",
    "print nodes == expected_tour"
   ]
  },
  {
   "cell_type": "code",
   "execution_count": 67,
   "metadata": {
    "collapsed": false
   },
   "outputs": [
    {
     "name": "stdout",
     "output_type": "stream",
     "text": [
      "[(1, 2), (2, 3), (3, 1), (3, 4), (4, 3)]\n",
      "{1: 2, 2: 2, 3: 4, 4: 2}\n",
      "[]\n",
      "Starting steps:  [1, 2]\n",
      "\n",
      "Possible next steps... [(2, 3)]\n",
      "Nodes:  [1, 2]\n",
      "Graph:  [(2, 3), (3, 1), (3, 4), (4, 3)]\n",
      "Next edge:  (2, 3)\n",
      "New tour:  [1, 2, 3]\n",
      "\n",
      "Possible next steps... [(3, 1), (3, 4), (4, 3)]\n",
      "Nodes:  [1, 2, 3]\n",
      "Graph:  [(3, 1), (3, 4), (4, 3)]\n",
      "Next edge:  (3, 1)\n",
      "New tour:  [1, 2, 3, 1]\n",
      "\n",
      "Backing off...\n",
      "[1, 2, 3, 1]\n",
      "[(3, 4), (4, 3)]\n",
      "Checking for possible paths...\n",
      "Possible next steps... [(3, 4), (4, 3)]\n",
      "Nodes:  [1, 2, 3]\n",
      "Graph:  [(3, 4), (4, 3), (1, 3)]\n",
      "Next edge:  (3, 4)\n",
      "New tour:  [1, 2, 3, 4]\n",
      "\n",
      "Possible next steps... [(4, 3)]\n",
      "Nodes:  [1, 2, 3, 4]\n",
      "Graph:  [(4, 3), (1, 3)]\n",
      "Next edge:  (4, 3)\n",
      "New tour:  [1, 2, 3, 4, 3]\n",
      "\n",
      "Possible next steps... [(1, 3)]\n",
      "Nodes:  [1, 2, 3, 4, 3]\n",
      "Graph:  [(1, 3)]\n",
      "Next edge:  (1, 3)\n",
      "New tour:  [1, 2, 3, 4, 3, 1]\n",
      "\n",
      "[1, 2, 3, 4, 3, 1]\n",
      "True\n"
     ]
    }
   ],
   "source": [
    "graph = [(1, 2), (2, 3), (3, 1), (3, 4), (4, 3)]\n",
    "nodes = find_eulerian_tour(graph)\n",
    "print(nodes)\n",
    "expected_tour = [1, 2, 3, 4, 3, 1]\n",
    "print nodes == expected_tour"
   ]
  },
  {
   "cell_type": "code",
   "execution_count": 68,
   "metadata": {
    "collapsed": false
   },
   "outputs": [
    {
     "name": "stdout",
     "output_type": "stream",
     "text": [
      "[(1, 2), (1, 3), (2, 3), (2, 4), (2, 6), (3, 4), (3, 5), (4, 5), (4, 6), (9, 10), (10, 11), (11, 9)]\n",
      "{1: 2, 2: 4, 3: 4, 4: 4, 5: 2, 6: 2, 9: 2, 10: 2, 11: 2}\n",
      "[]\n",
      "Starting steps:  [1, 2]\n",
      "\n",
      "Possible next steps... [(2, 3), (2, 4), (2, 6)]\n",
      "Nodes:  [1, 2]\n",
      "Graph:  [(1, 3), (2, 3), (2, 4), (2, 6), (3, 4), (3, 5), (4, 5), (4, 6), (9, 10), (10, 11), (11, 9)]\n",
      "Next edge:  (2, 3)\n",
      "New tour:  [1, 2, 3]\n",
      "\n",
      "Possible next steps... [(1, 3), (3, 4), (3, 5)]\n",
      "Nodes:  [1, 2, 3]\n",
      "Graph:  [(1, 3), (2, 4), (2, 6), (3, 4), (3, 5), (4, 5), (4, 6), (9, 10), (10, 11), (11, 9)]\n",
      "Next edge:  (1, 3)\n",
      "New tour:  [1, 2, 3, 1]\n",
      "\n",
      "Backing off...\n",
      "[1, 2, 3, 1]\n",
      "[(2, 4), (2, 6), (3, 4), (3, 5), (4, 5), (4, 6), (9, 10), (10, 11), (11, 9)]\n",
      "Checking for possible paths...\n",
      "Possible next steps... [(3, 4), (3, 5)]\n",
      "Nodes:  [1, 2, 3]\n",
      "Graph:  [(2, 4), (2, 6), (3, 4), (3, 5), (4, 5), (4, 6), (9, 10), (10, 11), (11, 9), (1, 3)]\n",
      "Next edge:  (3, 4)\n",
      "New tour:  [1, 2, 3, 4]\n",
      "\n",
      "Possible next steps... [(2, 4), (4, 5), (4, 6)]\n",
      "Nodes:  [1, 2, 3, 4]\n",
      "Graph:  [(2, 4), (2, 6), (3, 5), (4, 5), (4, 6), (9, 10), (10, 11), (11, 9), (1, 3)]\n",
      "Next edge:  (2, 4)\n",
      "New tour:  [1, 2, 3, 4, 2]\n",
      "\n",
      "Possible next steps... [(2, 6)]\n",
      "Nodes:  [1, 2, 3, 4, 2]\n",
      "Graph:  [(2, 6), (3, 5), (4, 5), (4, 6), (9, 10), (10, 11), (11, 9), (1, 3)]\n",
      "Next edge:  (2, 6)\n",
      "New tour:  [1, 2, 3, 4, 2, 6]\n",
      "\n",
      "Possible next steps... [(4, 6)]\n",
      "Nodes:  [1, 2, 3, 4, 2, 6]\n",
      "Graph:  [(3, 5), (4, 5), (4, 6), (9, 10), (10, 11), (11, 9), (1, 3)]\n",
      "Next edge:  (4, 6)\n",
      "New tour:  [1, 2, 3, 4, 2, 6, 4]\n",
      "\n",
      "Possible next steps... [(4, 5)]\n",
      "Nodes:  [1, 2, 3, 4, 2, 6, 4]\n",
      "Graph:  [(3, 5), (4, 5), (9, 10), (10, 11), (11, 9), (1, 3)]\n",
      "Next edge:  (4, 5)\n",
      "New tour:  [1, 2, 3, 4, 2, 6, 4, 5]\n",
      "\n",
      "Possible next steps... [(3, 5)]\n",
      "Nodes:  [1, 2, 3, 4, 2, 6, 4, 5]\n",
      "Graph:  [(3, 5), (9, 10), (10, 11), (11, 9), (1, 3)]\n",
      "Next edge:  (3, 5)\n",
      "New tour:  [1, 2, 3, 4, 2, 6, 4, 5, 3]\n",
      "\n",
      "Possible next steps... [(1, 3)]\n",
      "Nodes:  [1, 2, 3, 4, 2, 6, 4, 5, 3]\n",
      "Graph:  [(9, 10), (10, 11), (11, 9), (1, 3)]\n",
      "Next edge:  (1, 3)\n",
      "New tour:  [1, 2, 3, 4, 2, 6, 4, 5, 3, 1]\n",
      "\n",
      "Not connected!\n",
      "[1, 2, 3, 4, 2, 6, 4, 5, 3, 1]\n",
      "True\n"
     ]
    }
   ],
   "source": [
    "graph = [(1, 2), (1, 3), (2, 3), (2, 4), (2, 6), (3, 4), (3, 5), (4, 5), (4, 6), (9, 10), (10, 11), (11, 9)]\n",
    "nodes = find_eulerian_tour(graph)\n",
    "print(nodes)\n",
    "expected_tour = [1, 2, 3, 4, 2, 6, 4, 5, 3, 1]\n",
    "print nodes == expected_tour"
   ]
  },
  {
   "cell_type": "code",
   "execution_count": 69,
   "metadata": {
    "collapsed": false
   },
   "outputs": [
    {
     "name": "stdout",
     "output_type": "stream",
     "text": [
      "[(1, 2), (2, 2), (2, 3), (3, 4), (4, 3), (4, 5), (1, 4), (5, 2)]\n",
      "{1: 2, 2: 5, 3: 3, 4: 4, 5: 2}\n",
      "[2, 3]\n",
      "Starting steps:  [2, 1]\n",
      "\n",
      "Possible next steps... [(1, 4)]\n",
      "Nodes:  [2, 1]\n",
      "Graph:  [(2, 2), (2, 3), (3, 4), (4, 3), (4, 5), (1, 4), (5, 2)]\n",
      "Next edge:  (1, 4)\n",
      "New tour:  [2, 1, 4]\n",
      "\n",
      "Possible next steps... [(3, 4), (4, 3), (4, 5)]\n",
      "Nodes:  [2, 1, 4]\n",
      "Graph:  [(2, 2), (2, 3), (3, 4), (4, 3), (4, 5), (5, 2)]\n",
      "Next edge:  (3, 4)\n",
      "New tour:  [2, 1, 4, 3]\n",
      "\n",
      "Possible next steps... [(2, 3), (4, 3)]\n",
      "Nodes:  [2, 1, 4, 3]\n",
      "Graph:  [(2, 2), (2, 3), (4, 3), (4, 5), (5, 2)]\n",
      "Next edge:  (2, 3)\n",
      "New tour:  [2, 1, 4, 3, 2]\n",
      "\n",
      "Possible next steps... [(2, 2), (5, 2)]\n",
      "Nodes:  [2, 1, 4, 3, 2]\n",
      "Graph:  [(2, 2), (4, 3), (4, 5), (5, 2)]\n",
      "Next edge:  (2, 2)\n",
      "New tour:  [2, 1, 4, 3, 2, 2]\n",
      "\n",
      "Possible next steps... [(5, 2)]\n",
      "Nodes:  [2, 1, 4, 3, 2, 2]\n",
      "Graph:  [(4, 3), (4, 5), (5, 2)]\n",
      "Next edge:  (5, 2)\n",
      "New tour:  [2, 1, 4, 3, 2, 2, 5]\n",
      "\n",
      "Possible next steps... [(4, 5)]\n",
      "Nodes:  [2, 1, 4, 3, 2, 2, 5]\n",
      "Graph:  [(4, 3), (4, 5)]\n",
      "Next edge:  (4, 5)\n",
      "New tour:  [2, 1, 4, 3, 2, 2, 5, 4]\n",
      "\n",
      "Possible next steps... [(4, 3)]\n",
      "Nodes:  [2, 1, 4, 3, 2, 2, 5, 4]\n",
      "Graph:  [(4, 3)]\n",
      "Next edge:  (4, 3)\n",
      "New tour:  [2, 1, 4, 3, 2, 2, 5, 4, 3]\n",
      "\n",
      "[2, 1, 4, 3, 2, 2, 5, 4, 3]\n",
      "True\n"
     ]
    }
   ],
   "source": [
    "graph = [(1, 2), (2, 2), (2, 3), (3, 4), (4, 3), (4, 5), (1, 4), (5, 2)]\n",
    "nodes = find_eulerian_tour(graph)\n",
    "print(nodes)\n",
    "expected_tour = [2, 1, 4, 3, 2, 2, 5, 4, 3]\n",
    "print nodes == expected_tour"
   ]
  },
  {
   "cell_type": "code",
   "execution_count": null,
   "metadata": {
    "collapsed": true
   },
   "outputs": [],
   "source": []
  }
 ],
 "metadata": {
  "kernelspec": {
   "display_name": "Python 2",
   "language": "python",
   "name": "python2"
  },
  "language_info": {
   "codemirror_mode": {
    "name": "ipython",
    "version": 2
   },
   "file_extension": ".py",
   "mimetype": "text/x-python",
   "name": "python",
   "nbconvert_exporter": "python",
   "pygments_lexer": "ipython2",
   "version": "2.7.10"
  }
 },
 "nbformat": 4,
 "nbformat_minor": 0
}
