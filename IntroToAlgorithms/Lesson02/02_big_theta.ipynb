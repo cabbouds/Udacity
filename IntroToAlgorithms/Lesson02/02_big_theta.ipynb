{
 "cells": [
  {
   "cell_type": "markdown",
   "metadata": {},
   "source": [
    "# CS215: Intro to Algorithms"
   ]
  },
  {
   "cell_type": "code",
   "execution_count": 1,
   "metadata": {
    "collapsed": true
   },
   "outputs": [],
   "source": [
    "import math"
   ]
  },
  {
   "cell_type": "markdown",
   "metadata": {},
   "source": [
    "# Big $\\Theta$ Notation"
   ]
  },
  {
   "cell_type": "markdown",
   "metadata": {
    "collapsed": true
   },
   "source": [
    "Big $\\Theta$ notation is similar to \"Big O\" notation - they are used to discuss running times / complexity."
   ]
  },
  {
   "cell_type": "markdown",
   "metadata": {},
   "source": [
    "### This time\n",
    "\n",
    "* tools for analyzing growth rates ($\\Theta$, etc.)\n",
    "* develop a feel for networks"
   ]
  },
  {
   "cell_type": "markdown",
   "metadata": {},
   "source": [
    "#### Divisible by five?"
   ]
  },
  {
   "cell_type": "code",
   "execution_count": 2,
   "metadata": {
    "collapsed": false
   },
   "outputs": [
    {
     "name": "stdout",
     "output_type": "stream",
     "text": [
      "361 636 277 129 434 577 796 596 727 566\r\n",
      "156 109 714 716 546 979 366 766 137 243\r\n",
      "331 999 922 304 657 314 634 303 677 597\r\n",
      "363 174 431 193 361 677 403 926 279 692\r\n",
      "749 401 346 202 763 314 333 244 796 697\r\n",
      "674 651 517 349 337 667 617 464 379 793\r\n",
      "542 464 962 146 946 199 302 699 606 126\r\n",
      "519 203 137 517 146 724 696 699 747 663\r\n",
      "126 247 469 953 396 502 562 647 364 214\r\n",
      "346 646 331 426 763 291 557 764 939 656\r\n",
      "753 561 797 224 537 361 263 493 196 162\r\n",
      "362 102 629 936 663 279 966 241 907 677\r\n",
      "945 416 122 563 667 394 654 592 977 177\r\n",
      "666 199 463 561 954 924 991 363 754 754\r\n",
      "199 451 796 566 629 651 517 167 704 749\r\n",
      "622 299 466 559 973 243 639 276 603 753\r\n"
     ]
    }
   ],
   "source": [
    "cat numbers.txt"
   ]
  },
  {
   "cell_type": "markdown",
   "metadata": {},
   "source": [
    "Is the product of all these numbers divisible by five? Try brute force..."
   ]
  },
  {
   "cell_type": "code",
   "execution_count": 3,
   "metadata": {
    "collapsed": false
   },
   "outputs": [
    {
     "name": "stdout",
     "output_type": "stream",
     "text": [
      "171192864777233549255068881274005401558777171039798036744818609669843734330346816426150061924155820244836996637449790903552415014642058337271828866386556618039562952477661977138569695691285036698665674025417491917606777585659643586959178806651355129245923986811313798093515276329798098180886583095811837470122071789851130105424828203575529881903664994314012015807489594333594315028629517554734983527139544321993096023097999360\n",
      "True\n"
     ]
    }
   ],
   "source": [
    "product = 1\n",
    "with open('numbers.txt', 'r') as f:\n",
    "    lines = f.readlines()\n",
    "    for line in lines:\n",
    "        nums = line.strip()\n",
    "        nums = nums.split()\n",
    "        for num in nums:\n",
    "            product *= int(num)\n",
    "            \n",
    "print product\n",
    "\n",
    "# too big for a float\n",
    "# prod_by_five = product / 5.0\n",
    "\n",
    "prod_by_five = product % 5 == 0\n",
    "print prod_by_five"
   ]
  },
  {
   "cell_type": "markdown",
   "metadata": {},
   "source": [
    "Better - count all the numbers and see if _any_ of them are divisible by five."
   ]
  },
  {
   "cell_type": "code",
   "execution_count": 4,
   "metadata": {
    "collapsed": false
   },
   "outputs": [
    {
     "name": "stdout",
     "output_type": "stream",
     "text": [
      "True\n"
     ]
    }
   ],
   "source": [
    "prod_by_five = False\n",
    "with open('numbers.txt', 'r') as f:\n",
    "    lines = f.readlines()\n",
    "    for line in lines:\n",
    "        nums = line.strip()\n",
    "        nums = nums.split()\n",
    "        for num in nums:\n",
    "            if int(num) % 5 == 0:\n",
    "                prod_by_five = True\n",
    "                break\n",
    "            \n",
    "print prod_by_five"
   ]
  },
  {
   "cell_type": "markdown",
   "metadata": {},
   "source": [
    "#### Graphs / Networks"
   ]
  },
  {
   "cell_type": "markdown",
   "metadata": {},
   "source": [
    "* nodes (vertices)\n",
    "* edges (links)\n",
    "\n",
    "(Usually people who say \"nodes\" also say \"links\".) Our links are not directed and they only connect two nodes.\n",
    "\n",
    "Look at \"Chain Networks\":\n",
    "\n",
    "* n = 5 nodes\n",
    "* m = 4 edges\n",
    "\n",
    "Chain nodes with `n` nodes always have `n - 1` edges."
   ]
  },
  {
   "cell_type": "markdown",
   "metadata": {},
   "source": [
    "#### Ring Network"
   ]
  },
  {
   "cell_type": "markdown",
   "metadata": {},
   "source": [
    "Complete the loop of a chain network.\n",
    "\n",
    "* n = 5 edges\n",
    "* m = 5 edges\n",
    "\n",
    "etc."
   ]
  },
  {
   "cell_type": "markdown",
   "metadata": {},
   "source": [
    "We will look at graphs as dictionaries of dictionaries where the key is the node and the value is the number of connections (or a dictionary). So\n",
    "\n",
    "    {0: {1: 2, 2: 1}}\n",
    "    \n",
    "represents a graph with nodes 0, 1, and 2, with a single connection between 0 and 1, and a single connection between 0 and 2."
   ]
  },
  {
   "cell_type": "code",
   "execution_count": 5,
   "metadata": {
    "collapsed": true
   },
   "outputs": [],
   "source": [
    "def make_link(G, node1, node2):\n",
    "    if node1 not in G:\n",
    "        G[node1] = {}\n",
    "    G[node1][node2] = 1\n",
    "    if node2 not in G:\n",
    "        G[node2] = {}\n",
    "    G[node2][node1] = 1"
   ]
  },
  {
   "cell_type": "code",
   "execution_count": 6,
   "metadata": {
    "collapsed": false
   },
   "outputs": [
    {
     "name": "stdout",
     "output_type": "stream",
     "text": [
      "5\n",
      "5\n",
      "{0: {1: 1, 4: 1}, 1: {0: 1, 2: 1}, 2: {1: 1, 3: 1}, 3: {2: 1, 4: 1}, 4: {0: 1, 3: 1}}\n"
     ]
    }
   ],
   "source": [
    "# make an empty graph\n",
    "a_ring = {}\n",
    "\n",
    "n = 5\n",
    "\n",
    "# add in edges\n",
    "for i in range(n):\n",
    "    # print i, (i+1)%n\n",
    "    make_link(a_ring, i, (i+1)%n)\n",
    "    \n",
    "# how many nodes\n",
    "print len(a_ring)\n",
    "\n",
    "# how many edges\n",
    "print sum([len(a_ring[node]) for node in a_ring.keys()])/2\n",
    "\n",
    "print a_ring"
   ]
  },
  {
   "cell_type": "markdown",
   "metadata": {},
   "source": [
    "#### Grid Network"
   ]
  },
  {
   "cell_type": "markdown",
   "metadata": {
    "collapsed": true
   },
   "source": [
    "* n = 20\n",
    "* m = 15 + 16 = 31"
   ]
  },
  {
   "cell_type": "markdown",
   "metadata": {},
   "source": [
    "How many edges in a grid of 256 nodes?"
   ]
  },
  {
   "cell_type": "code",
   "execution_count": 7,
   "metadata": {
    "collapsed": false
   },
   "outputs": [
    {
     "data": {
      "text/plain": [
       "16.0"
      ]
     },
     "execution_count": 7,
     "metadata": {},
     "output_type": "execute_result"
    }
   ],
   "source": [
    "math.sqrt(256)"
   ]
  },
  {
   "cell_type": "markdown",
   "metadata": {},
   "source": [
    "Therefore, there are 15 linkages across a row and 16 down:\n",
    "\n",
    "    * - * - * - * ... - *    # 16 nodes, 15 edges\n",
    "    \n",
    "And a linkage per node between rows, with 15 spots between rows:\n",
    "\n",
    "    *    *    *    ...  *\n",
    "    |    |    |         |\n",
    "    *    *    *         *"
   ]
  },
  {
   "cell_type": "code",
   "execution_count": 8,
   "metadata": {
    "collapsed": false
   },
   "outputs": [
    {
     "data": {
      "text/plain": [
       "480"
      ]
     },
     "execution_count": 8,
     "metadata": {},
     "output_type": "execute_result"
    }
   ],
   "source": [
    "15*16 + 16*15"
   ]
  },
  {
   "cell_type": "code",
   "execution_count": 9,
   "metadata": {
    "collapsed": false
   },
   "outputs": [
    {
     "name": "stdout",
     "output_type": "stream",
     "text": [
      "256\n",
      "480\n"
     ]
    }
   ],
   "source": [
    "G = {}\n",
    "n = 256\n",
    "side = int(math.sqrt(256))\n",
    "\n",
    "# add edges\n",
    "for i in range(side):\n",
    "    for j in range(side):\n",
    "        if i < side - 1:\n",
    "            make_link(G, (i, j), (i + 1, j))\n",
    "        if j < side - 1:\n",
    "            make_link(G, (i, j), (i, j + 1))\n",
    "            \n",
    "print len(G)\n",
    "print sum([len(G[node]) for node in G.keys()])/2"
   ]
  },
  {
   "cell_type": "markdown",
   "metadata": {},
   "source": [
    "How many edges in a square grid graph?\n",
    "\n",
    "\\begin{equation}\n",
    "\\begin{split}\n",
    "N =&~ 2 (\\sqrt{n} - 1) \\sqrt{n} \\\\\n",
    "=&~ 2 n - 2 \\sqrt{n} \\\\\n",
    "\\end{split}\n",
    "\\end{equation}"
   ]
  },
  {
   "cell_type": "markdown",
   "metadata": {},
   "source": [
    "#### Big OH - Asymptotic Growth"
   ]
  },
  {
   "cell_type": "markdown",
   "metadata": {},
   "source": [
    "\\begin{equation}\n",
    "2 n - 2 \\sqrt{n} \\in \\Theta(n)\n",
    "\\end{equation}"
   ]
  },
  {
   "cell_type": "markdown",
   "metadata": {},
   "source": [
    "* $\\Theta(g(n))$: The set of functions that grow \"equally\" quickly as $g(n)$.\n",
    "* $f(n) \\in \\Theta(g(n))$ iff $\\exists$ $c_1, c_2, n_0$ $\\forall n > n_0$, $0 \\leq c_1 g(a) \\leq f(a) \\leq c_2 g(n)$"
   ]
  },
  {
   "cell_type": "markdown",
   "metadata": {},
   "source": [
    "#### Big $\\Theta$ Reflexive"
   ]
  },
  {
   "cell_type": "markdown",
   "metadata": {
    "collapsed": true
   },
   "source": [
    "If $f(n) \\in \\Theta(g(n))$, is $g(n) \\in \\Theta(f(n))$?"
   ]
  },
  {
   "cell_type": "markdown",
   "metadata": {},
   "source": [
    "Yes, because $1/c_1$ and $1/c_2$ sandwich $g$ by $f$. Recall, the definition of $\\Theta$. This implies $\\exists$ $c_1, c_2, n_0$ $\\forall n > n_0$, $0 \\leq g(a) \\leq  \\frac{1}{c_1} f(a) \\leq \\frac{c_2}{c_1} g(n)$. Also, we have $\\exists$ $c_1, c_2, n_0$ $\\forall n > n_0$, $0 \\leq \\frac{c_1}{c_2} g(a) \\leq  \\frac{1}{c_2} f(a) \\leq g(n)$. Therefore, we may combine these to show $\\exists$ $c_1, c_2, n_0$ $\\forall n > n_0$, $0 \\leq \\frac{1}{c_2} g(a) \\leq f(a) \\leq \\frac{1}{c_1} g(n)$. \n",
    "\n",
    "We may, of course, re-write this as: $\\exists$ $c_1, c_2, n_0$ $\\forall n > n_0$, $0 \\leq c_1 g(a) \\leq f(a) \\leq c_2 g(n)$ since the $c_i$ are just constants."
   ]
  },
  {
   "cell_type": "markdown",
   "metadata": {},
   "source": [
    "#### Big-Theta Examples"
   ]
  },
  {
   "cell_type": "markdown",
   "metadata": {
    "collapsed": true
   },
   "source": [
    "* $\\frac{1}{2} n^2 \\in \\Theta(n^2)$\n",
    "* $8 \\sqrt{n}  \\in \\Theta(\\sqrt{n})$\n",
    "* $2n - 2\\sqrt{n} \\in \\Theta(n)$\n",
    "* $7n^4 + 2n^3 - 4n \\log n + \\sqrt{n} \\in \\Theta(n^4)$\n",
    "* $\\ln n \\in \\Theta(\\log n)$    # any base - like $\\log_2 n$, etc.\n",
    "* $\\pi^2 \\in \\Theta(1)$"
   ]
  },
  {
   "cell_type": "markdown",
   "metadata": {},
   "source": [
    "#### Showing Grid Edges Grow Linearly"
   ]
  },
  {
   "cell_type": "markdown",
   "metadata": {},
   "source": [
    "We want to show:\n",
    "\n",
    "\\begin{equation}\n",
    "2 n  - 2 \\sqrt{n} \\in \\Theta(n)\n",
    "\\end{equation}\n",
    "\n",
    "Need $c_1, c_2, n_0$ such that $n > n_0$, $0 \\leq c_1 n \\leq 2 n - 2 \\sqrt{n}$ and $2 n - 2 \\sqrt{n} \\leq c_2 n$."
   ]
  },
  {
   "cell_type": "markdown",
   "metadata": {},
   "source": [
    "\\begin{equation}\n",
    "\\begin{split}\n",
    "c_2 n \\geq&~ 2n - 2\\sqrt{n} \\\\\n",
    "\\geq&~ 2 - 2 \\frac{\\sqrt{n}}{n} \\\\\n",
    "&\\Rightarrow c_2 \\to 2 ~\\text{random choice, not a solved equation}\n",
    "\\end{split}\n",
    "\\end{equation}"
   ]
  },
  {
   "cell_type": "markdown",
   "metadata": {},
   "source": [
    "For the next inequality, suppose we choose $c_1 = 1$. Our inequality won't hold for all $n$, but it will hold for some of them:\n",
    "\n",
    "\\begin{equation}\n",
    "\\begin{split}\n",
    "n \\leq&~ 2n - 2\\sqrt{n}\\\\\n",
    "2 \\leq&~ \\sqrt{n} \\\\\n",
    "4 \\leq&~ n\n",
    "\\end{split}\n",
    "\\end{equation}\n",
    "\n",
    "This gives us $n_0 = 4$ to define the range where our bounds hold."
   ]
  },
  {
   "cell_type": "code",
   "execution_count": 10,
   "metadata": {
    "collapsed": true
   },
   "outputs": [],
   "source": [
    "%matplotlib inline"
   ]
  },
  {
   "cell_type": "code",
   "execution_count": 11,
   "metadata": {
    "collapsed": true
   },
   "outputs": [],
   "source": [
    "import numpy as np\n",
    "import matplotlib.pyplot as plt"
   ]
  },
  {
   "cell_type": "code",
   "execution_count": 12,
   "metadata": {
    "collapsed": false
   },
   "outputs": [
    {
     "data": {
      "text/plain": [
       "[<matplotlib.lines.Line2D at 0x1061b8ed0>]"
      ]
     },
     "execution_count": 12,
     "metadata": {},
     "output_type": "execute_result"
    },
    {
     "data": {
      "image/png": "[encoded data removed]",
      "text/plain": [
       "<matplotlib.figure.Figure at 0x1060854d0>"
      ]
     },
     "metadata": {},
     "output_type": "display_data"
    }
   ],
   "source": [
    "x = np.linspace(0, 10, 1000, endpoint=True)\n",
    "y1 = x\n",
    "y2 = 2 * x - 2 * np.sqrt(x)\n",
    "y3 = 2 * x\n",
    "plt.plot(x, y1, color='red')\n",
    "plt.plot(x, y2, color='blue')\n",
    "plt.plot(x, y3, color='red')"
   ]
  },
  {
   "cell_type": "code",
   "execution_count": 13,
   "metadata": {
    "collapsed": false
   },
   "outputs": [
    {
     "data": {
      "text/plain": [
       "[<matplotlib.lines.Line2D at 0x1063ffb90>]"
      ]
     },
     "execution_count": 13,
     "metadata": {},
     "output_type": "execute_result"
    },
    {
     "data": {
      "image/png": "[encoded data removed]",
      "text/plain": [
       "<matplotlib.figure.Figure at 0x1061f0ad0>"
      ]
     },
     "metadata": {},
     "output_type": "display_data"
    }
   ],
   "source": [
    "x = np.linspace(0, 10000, 1000, endpoint=True)\n",
    "y1 = x\n",
    "y2 = 2 * x - 2 * np.sqrt(x)\n",
    "y3 = 2 * x\n",
    "plt.plot(x, y1, color='red')\n",
    "plt.plot(x, y2, color='blue')\n",
    "plt.plot(x, y3, color='red')"
   ]
  },
  {
   "cell_type": "markdown",
   "metadata": {},
   "source": [
    "#### Complete Set"
   ]
  },
  {
   "cell_type": "markdown",
   "metadata": {
    "collapsed": true
   },
   "source": [
    "$\\Theta$ is just one of a bunch of different functions we can define:\n",
    "\n",
    "* $f(n) \\in o(g(n)) \\approx f(n) < g(n)$\n",
    "* $f(n) \\in O(g(n)) \\approx f(n) \\leq g(n)$\n",
    "* $f(n) \\in \\Theta(g(n)) \\approx f(n) = g(n)$\n",
    "* $f(n) \\in \\Omega(g(n)) \\approx f(n) \\geq g(n)$\n",
    "* $f(n) \\in \\omega(g(n)) \\approx f(n) > g(n)$"
   ]
  },
  {
   "cell_type": "markdown",
   "metadata": {},
   "source": [
    "After some guesses...\n",
    "\\begin{equation}\n",
    "\\begin{split}\n",
    "2 n^2 + 6 n + 20 \\log n \\in&~ \\Theta(n^2) \\\\\n",
    "2 n^2 + 6 n + 20 \\log n \\in&~ \\Theta(2 n^2 + 6 n + 20 \\log n) \\\\\n",
    "2 n^2 + 6 n + 20 \\log n \\in&~ \\Theta(20 n^2) \\\\\n",
    "\\end{split}\n",
    "\\end{equation}\n",
    "\n",
    "And more, obviously..."
   ]
  },
  {
   "cell_type": "markdown",
   "metadata": {},
   "source": [
    "#### Planar Graph"
   ]
  },
  {
   "cell_type": "markdown",
   "metadata": {},
   "source": [
    "May be drawn in a plane and edges don't cross.\n",
    "\n",
    "Suppose $n = 5$ and $m = 5$. It turns out $m < 9$."
   ]
  },
  {
   "cell_type": "markdown",
   "metadata": {},
   "source": [
    "#### Euler Returns!"
   ]
  },
  {
   "cell_type": "markdown",
   "metadata": {},
   "source": [
    "Regions are areas that are \"boxed off\" in a graph (plus the outside). Euler has a relation: For any planar graph\n",
    "\n",
    "\\begin{equation}\n",
    "n - m + r = 2\n",
    "\\end{equation}\n",
    "\n",
    "Where $n$ counts nodes, $m$ counts edges, and $r$ counts regions."
   ]
  },
  {
   "cell_type": "markdown",
   "metadata": {},
   "source": [
    "#### Regions in a Planar Graph"
   ]
  },
  {
   "cell_type": "markdown",
   "metadata": {},
   "source": [
    "How many regions (can't draw the graph here easily...)?"
   ]
  },
  {
   "cell_type": "markdown",
   "metadata": {},
   "source": [
    "#### Euler's Formula"
   ]
  },
  {
   "cell_type": "markdown",
   "metadata": {},
   "source": [
    "\\begin{equation}\n",
    "n - m + r = 2\n",
    "\\end{equation}\n",
    "\n",
    "We can build any planar graph by adding nodes and edges.\n",
    "\n",
    "We will proves Euler's Formula by induction. $n = 1$, $m = 0$, $r = 1$ $\\Rightarrow$ Euler holds - this is our _base case_.\n",
    "\n",
    "Suppose we have a planar graph. We can grow the graph by doing one of two things.\n",
    "\n",
    "1. add an edge and a node together\n",
    "2. add an edge only\n",
    "\n",
    "For (1), we have\n",
    "\\begin{equation}\n",
    "(n + 1) - (m + 1) + r = n - m + r = 2\n",
    "\\end{equation}\n",
    "\n",
    "For (2) we have\n",
    "\\begin{equation}\n",
    "n - (m + 1) + (r + 1) = n - m + r = 2\n",
    "\\end{equation}"
   ]
  },
  {
   "cell_type": "markdown",
   "metadata": {},
   "source": [
    "#### Growth Rate of Edges in Planar Graphs"
   ]
  },
  {
   "cell_type": "markdown",
   "metadata": {
    "collapsed": true
   },
   "source": [
    "A region must be bounded by at least three edges. To avoid double counting, this looks like:\n",
    "\n",
    "\\begin{equation}\n",
    "\\begin{split}\n",
    "3 r \\leq&~ 2 m\\\\\n",
    "\\text{Euler:}~ m + 2 =&~ n r \\leq n + \\frac{2}{3} m \\\\\n",
    "3 m + 6 \\leq&~ 3 n + 2 m \\\\\n",
    "m \\leq&~ 3n - 6 \\in \\Theta(n)\n",
    "\\end{split}\n",
    "\\end{equation}"
   ]
  },
  {
   "cell_type": "markdown",
   "metadata": {},
   "source": [
    "#### Recap"
   ]
  },
  {
   "cell_type": "markdown",
   "metadata": {},
   "source": [
    "Chain, Ring, Grid, Planar graph all have $m \\in \\Theta(n)$. Is this always the case for graphs? No. Complete graphs (or \"cliques\") have every node connected to every node.\n",
    "\n",
    "Suppose we have a complete\n",
    "\n",
    "* n = 5\n",
    "* m = 10\n",
    "\n",
    "What is the general rule?"
   ]
  },
  {
   "cell_type": "code",
   "execution_count": 14,
   "metadata": {
    "collapsed": true
   },
   "outputs": [],
   "source": [
    "def clique(n):\n",
    "    # return the number of edges\n",
    "    c = n\n",
    "    e = 0\n",
    "    while c > 0:\n",
    "        e += (c - 1)\n",
    "        c -= 1\n",
    "    return e"
   ]
  },
  {
   "cell_type": "code",
   "execution_count": 15,
   "metadata": {
    "collapsed": false
   },
   "outputs": [
    {
     "name": "stdout",
     "output_type": "stream",
     "text": [
      "0 0 0\n",
      "1 0 0\n",
      "2 1 1\n",
      "3 3 3\n",
      "4 6 6\n",
      "5 10 10\n",
      "6 15 15\n",
      "7 21 21\n",
      "8 28 28\n",
      "9 36 36\n",
      "10 45 45\n",
      "11 55 55\n",
      "12 66 66\n",
      "13 78 78\n",
      "14 91 91\n",
      "15 105 105\n",
      "16 120 120\n",
      "17 136 136\n",
      "18 153 153\n",
      "19 171 171\n"
     ]
    }
   ],
   "source": [
    "for i in range(20):\n",
    "    print i, clique(i), i*(i-1)/2"
   ]
  },
  {
   "cell_type": "code",
   "execution_count": 16,
   "metadata": {
    "collapsed": false
   },
   "outputs": [],
   "source": [
    "def clique(n):\n",
    "    return n * (n - 1) /2"
   ]
  },
  {
   "cell_type": "code",
   "execution_count": 17,
   "metadata": {
    "collapsed": true
   },
   "outputs": [],
   "source": [
    "def gen_complete_graph(n):\n",
    "    G = {}\n",
    "    for i in range(n):\n",
    "        for j in range(n):\n",
    "            if i < j:\n",
    "                make_link(G, i, j)\n",
    "                \n",
    "    return G"
   ]
  },
  {
   "cell_type": "code",
   "execution_count": 18,
   "metadata": {
    "collapsed": false
   },
   "outputs": [],
   "source": [
    "gr = gen_complete_graph(5)"
   ]
  },
  {
   "cell_type": "code",
   "execution_count": 19,
   "metadata": {
    "collapsed": false
   },
   "outputs": [
    {
     "data": {
      "text/plain": [
       "{0: {1: 1, 2: 1, 3: 1, 4: 1},\n",
       " 1: {0: 1, 2: 1, 3: 1, 4: 1},\n",
       " 2: {0: 1, 1: 1, 3: 1, 4: 1},\n",
       " 3: {0: 1, 1: 1, 2: 1, 4: 1},\n",
       " 4: {0: 1, 1: 1, 2: 1, 3: 1}}"
      ]
     },
     "execution_count": 19,
     "metadata": {},
     "output_type": "execute_result"
    }
   ],
   "source": [
    "gr"
   ]
  },
  {
   "cell_type": "code",
   "execution_count": 20,
   "metadata": {
    "collapsed": false
   },
   "outputs": [
    {
     "data": {
      "text/plain": [
       "10"
      ]
     },
     "execution_count": 20,
     "metadata": {},
     "output_type": "execute_result"
    }
   ],
   "source": [
    "sum([len(gr[node]) for node in gr.keys()])/2"
   ]
  },
  {
   "cell_type": "code",
   "execution_count": 21,
   "metadata": {
    "collapsed": true
   },
   "outputs": [],
   "source": [
    "def get_num_nodes_from_graph(gr):\n",
    "    n = sum([len(gr[node]) for node in gr.keys()])/2\n",
    "    return n"
   ]
  },
  {
   "cell_type": "code",
   "execution_count": 22,
   "metadata": {
    "collapsed": false
   },
   "outputs": [
    {
     "name": "stdout",
     "output_type": "stream",
     "text": [
      "0\n",
      "0\n",
      "1\n",
      "3\n",
      "6\n",
      "10\n",
      "15\n",
      "21\n",
      "28\n",
      "36\n"
     ]
    }
   ],
   "source": [
    "for i in range(10):\n",
    "    gr = gen_complete_graph(i)\n",
    "    print get_num_nodes_from_graph(gr)"
   ]
  },
  {
   "cell_type": "markdown",
   "metadata": {},
   "source": [
    "#### Hypercube"
   ]
  },
  {
   "cell_type": "markdown",
   "metadata": {
    "collapsed": true
   },
   "source": [
    "`n`: power of 2\n",
    "\n",
    "Every node has a label that is a bit pattern and connect to all nodes if their bit pattern differ in exactly one place.\n",
    "\n",
    "So, for 4 nodes: `00` - `01` - `11` - `10` - back to `00` (a square)\n",
    "\n",
    "For 8, we draw a \"3D cube\".\n",
    "\n",
    "For 16 - nice trick - draw two 8 node cubes and then prepend a `0` in front of one of them and a `1` in front of the other. Now we connect all the \"mirrored\" nodes to each other (only) because they all differ by one bit in the pattern."
   ]
  },
  {
   "cell_type": "markdown",
   "metadata": {},
   "source": [
    "#### How many edges in an `n`-node hypercube?"
   ]
  },
  {
   "cell_type": "markdown",
   "metadata": {},
   "source": [
    "    2       1\n",
    "    4       4     = 1 * 2 + 2\n",
    "    8       12    = 4 * 2 + 4\n",
    "    16      32    = 12 * 2 + 8"
   ]
  },
  {
   "cell_type": "code",
   "execution_count": 23,
   "metadata": {
    "collapsed": true
   },
   "outputs": [],
   "source": [
    "def hypercube_num_edges(n):\n",
    "    nodes = 2\n",
    "    edges = 1\n",
    "    while nodes < n:\n",
    "        edges = edges * 2 + nodes\n",
    "        nodes *= 2\n",
    "    if nodes == n:\n",
    "        return edges\n",
    "    else:\n",
    "        print \"nodes were not a power of 2\"\n",
    "        return 0"
   ]
  },
  {
   "cell_type": "code",
   "execution_count": 24,
   "metadata": {
    "collapsed": false
   },
   "outputs": [
    {
     "data": {
      "text/plain": [
       "[1, 4, 12, 32, 80, 192, 448, 1024]"
      ]
     },
     "execution_count": 24,
     "metadata": {},
     "output_type": "execute_result"
    }
   ],
   "source": [
    "[hypercube_num_edges(i) for i in [2, 4, 8, 16, 32, 64, 128, 256]]"
   ]
  },
  {
   "cell_type": "markdown",
   "metadata": {},
   "source": [
    "What is $\\Theta(n)$?"
   ]
  },
  {
   "cell_type": "code",
   "execution_count": 25,
   "metadata": {
    "collapsed": false
   },
   "outputs": [
    {
     "data": {
      "text/plain": [
       "[0.5, 1.0, 1.5, 2.0, 2.5, 3.0, 3.5, 4.0]"
      ]
     },
     "execution_count": 25,
     "metadata": {},
     "output_type": "execute_result"
    }
   ],
   "source": [
    "[hypercube_num_edges(i) / float(i) for i in [2, 4, 8, 16, 32, 64, 128, 256]]"
   ]
  },
  {
   "cell_type": "code",
   "execution_count": 26,
   "metadata": {
    "collapsed": false
   },
   "outputs": [
    {
     "data": {
      "text/plain": [
       "[<matplotlib.lines.Line2D at 0x1065398d0>]"
      ]
     },
     "execution_count": 26,
     "metadata": {},
     "output_type": "execute_result"
    },
    {
     "data": {
      "image/png": "[encoded data removed]",
      "text/plain": [
       "<matplotlib.figure.Figure at 0x10617d6d0>"
      ]
     },
     "metadata": {},
     "output_type": "display_data"
    }
   ],
   "source": [
    "xx = [2, 4, 8, 16, 32, 64, 128, 256]\n",
    "yy = [hypercube_num_edges(i) for i in xx]\n",
    "tt = [math.log(i) for i in xx]\n",
    "uu = [i*math.log(i) for i in xx]\n",
    "vv = [math.log(i)*math.log(i) for i in xx]\n",
    "\n",
    "plt.plot(xx, yy)\n",
    "plt.axes().set_aspect('equal', 'datalim')\n",
    "plt.plot(xx, tt)\n",
    "plt.plot(xx, uu)\n",
    "plt.plot(xx, vv)"
   ]
  },
  {
   "cell_type": "markdown",
   "metadata": {},
   "source": [
    "For `n=4`, the number of bits in an edge is `log n`. So, `n * log n` double counts the edges coming from a node, making the exact formula more like `(n/2) * log n`. Therefore we are in $\\Theta \\sim n \\log n$. "
   ]
  },
  {
   "cell_type": "code",
   "execution_count": 27,
   "metadata": {
    "collapsed": false
   },
   "outputs": [
    {
     "data": {
      "text/plain": [
       "[1.0, 4.0, 12.0, 32.0, 80.0, 192.0, 448.0, 1024.0]"
      ]
     },
     "execution_count": 27,
     "metadata": {},
     "output_type": "execute_result"
    }
   ],
   "source": [
    "[(i/2) * math.log(i, 2) for i in [2, 4, 8, 16, 32, 64, 128, 256]]"
   ]
  },
  {
   "cell_type": "markdown",
   "metadata": {},
   "source": [
    "#### Tree Graphs"
   ]
  },
  {
   "cell_type": "markdown",
   "metadata": {
    "collapsed": true
   },
   "source": [
    "Tree graphs have two properties:\n",
    "\n",
    "* they are connected,\n",
    "* and no cycles or loops."
   ]
  },
  {
   "cell_type": "markdown",
   "metadata": {},
   "source": [
    "#### Randomly Generated Graphs"
   ]
  },
  {
   "cell_type": "markdown",
   "metadata": {},
   "source": [
    "So far we have discussed:\n",
    "\n",
    "* chains\n",
    "* rings\n",
    "* grids\n",
    "* hypercubes\n",
    "* trees\n",
    "\n",
    "But real graphs, like we see in social networks, are much messier."
   ]
  },
  {
   "cell_type": "markdown",
   "metadata": {},
   "source": [
    "#### Erdos-Renyi Model"
   ]
  },
  {
   "cell_type": "markdown",
   "metadata": {},
   "source": [
    "* `n` nodes\n",
    "* connectivity probability `p`\n",
    "\n",
    "1. generate `n` nodes\n",
    "2. for each node pair `(i, j)`, connect them with probability `p`\n",
    "\n",
    "What is the probability `p` required to make the graph reasonably likely to be connected?\n",
    "\n",
    "However, these graphs don't really look much like what we see in social networks."
   ]
  },
  {
   "cell_type": "markdown",
   "metadata": {},
   "source": [
    "#### Some Recursive Graphs"
   ]
  },
  {
   "cell_type": "markdown",
   "metadata": {},
   "source": [
    "1. `n` nodes\n",
    "2. create graph on `n/2` nodes\n",
    "3. create graph on other `n/2` nodes\n",
    "4. generate edges between the two smaller graphs\n",
    "5. return graph"
   ]
  },
  {
   "cell_type": "markdown",
   "metadata": {
    "collapsed": true
   },
   "source": [
    "Pseudo Python:\n",
    "\n",
    "    def makeG(n):\n",
    "        if n == 1:\n",
    "            return a single node\n",
    "        G1 = makeG(n/2)\n",
    "        G2 = makeG(n/2)\n",
    "        i1 = random node from G1\n",
    "        i2 = random node from G2\n",
    "        make_link(G, i1, i2)"
   ]
  },
  {
   "cell_type": "markdown",
   "metadata": {},
   "source": [
    "Suppose we have 8 nodes:\n",
    "\n",
    "1. make a 4 and 4\n",
    "2. down the first 4 rabbit hole, make 2 and 2\n",
    "3. down the first 2, make a 1 and 1\n",
    "4. connect the one and one\n",
    "5. down the second 2, make a 1 and 1\n",
    "6. connect the one and one\n",
    "...\n",
    "\n",
    "A bit easier to see with 4 - it must be a chain for 4. But, for eight, since we can connect any random nodes between the two \"4\"s, the real graph must be a tree (and chain is a subtype of tree)."
   ]
  },
  {
   "cell_type": "markdown",
   "metadata": {
    "collapsed": true
   },
   "source": [
    "The \"official\" solution was very nice and showed a _basic_ method to use in this sort of case, rather than start with 8 and try to reason about it, do 1, then 2, then 4, etc., which is more or less what I did in the end, but cleaner."
   ]
  },
  {
   "cell_type": "markdown",
   "metadata": {},
   "source": [
    "#### Recurrence Relations"
   ]
  },
  {
   "cell_type": "markdown",
   "metadata": {},
   "source": [
    "We can make a recurrence relation for our random graph generator:\n",
    "\n",
    "    T: # of edges\n",
    "    T(1) = 0\n",
    "    T(n) = 2 T(n/2) + 1\n",
    "\n",
    "<img src=\"Screen_Shot_2015-11-09_at_5.39.22_AM.png\">"
   ]
  },
  {
   "cell_type": "code",
   "execution_count": 28,
   "metadata": {
    "collapsed": false
   },
   "outputs": [
    {
     "data": {
      "text/plain": [
       "2.0"
      ]
     },
     "execution_count": 28,
     "metadata": {},
     "output_type": "execute_result"
    }
   ],
   "source": [
    "math.log(4, 2)"
   ]
  },
  {
   "cell_type": "code",
   "execution_count": 29,
   "metadata": {
    "collapsed": false
   },
   "outputs": [
    {
     "data": {
      "text/plain": [
       "3.0"
      ]
     },
     "execution_count": 29,
     "metadata": {},
     "output_type": "execute_result"
    }
   ],
   "source": [
    "math.log(8, 2)"
   ]
  },
  {
   "cell_type": "markdown",
   "metadata": {},
   "source": [
    "The depth must be `log n` (base 2), and the number of leaves at the bottom must be `n`. A nice way to think about the number of leaves is it will be $2^{\\text{depth}}$, but this means:\n",
    "\n",
    "\\begin{equation}\n",
    "\\begin{split}\n",
    "2^d =&~ 2^{\\log_2 n} \\\\\n",
    "=&~ n \\\\\n",
    "\\end{split}\n",
    "\\end{equation}"
   ]
  },
  {
   "cell_type": "markdown",
   "metadata": {},
   "source": [
    "#### Number of Edges"
   ]
  },
  {
   "cell_type": "markdown",
   "metadata": {},
   "source": [
    "The total number of edges is $0 + n + n/2 + n/4 + \\cdots + 2 + 1$ for the bottom, second to the bottom, etc. to the top layer. This is basically $2n = \\Theta(n)$."
   ]
  },
  {
   "cell_type": "markdown",
   "metadata": {},
   "source": [
    "#### N Squared"
   ]
  },
  {
   "cell_type": "markdown",
   "metadata": {},
   "source": [
    "Another randomly generated graph:\n",
    "\n",
    "    def makeG(n):\n",
    "        if n == 1:\n",
    "            return a node\n",
    "        G1 = makeG(n/2)\n",
    "        G2 = makeG(n/2)\n",
    "        s1 = random n/4 nodes from G1\n",
    "        s2 = random n/4 nodes from G2\n",
    "        for all il in s1 and i2 in s2:\n",
    "            make_link(G, i1, i2)\n",
    "        return G\n",
    "        \n",
    "Analysis:\n",
    "\n",
    "    T(1) = 0\n",
    "    T(n) = 2 T(n/2) + (n/4)^2\n",
    "         = 2 T(n/2) + \\Theta(n^2)\n",
    "\n",
    "<img src=\"Screen_Shot_2015-11-09_at_5.55.36_AM.png\">"
   ]
  },
  {
   "cell_type": "markdown",
   "metadata": {},
   "source": [
    "#### Last Random Graph"
   ]
  },
  {
   "cell_type": "markdown",
   "metadata": {
    "collapsed": true
   },
   "source": [
    "    def makeG(n):\n",
    "        if n == 1:\n",
    "            return a node\n",
    "        G1 = makeG(n/2)\n",
    "        G2 = makeG(n/2)\n",
    "        i1 = list of nodes of G1 in random order\n",
    "        i2 = list of nodes of G2 in random order\n",
    "        for i in range(n/2):\n",
    "            make_link(G, i1[i], i2[i])\n",
    "        return G"
   ]
  },
  {
   "cell_type": "markdown",
   "metadata": {},
   "source": [
    "* `n == 1`: solo node:   `*`\n",
    "* `n == 2`: two nodes, linked:   `*--*`\n",
    "* `n == 4`: four nodes in a ring or a twisted ring (topologically the same)\n",
    "* `n == 8`: two rings with random connections between all corners\n",
    "* `n == 16`: two 8's with random connections between all\n",
    "\n",
    "The not-obvious thing - are these hypercubes? Probably need to draw pictures... They aren't hypercubes - we can draw things that are topologically distinct at the eight stage, e.g.\n",
    "\n",
    "    1  2     3  4\n",
    "    *--*     *--*     + 1-3, 5-7, 2-8, 6-4\n",
    "    |  |     |  |\n",
    "    *--*     *--*     distinct from 1-3, 5-7, 2-4, 6-8\n",
    "    5  6     7  8    "
   ]
  },
  {
   "cell_type": "markdown",
   "metadata": {},
   "source": [
    "#### Analysis of \"Tangled Hypercube\""
   ]
  },
  {
   "cell_type": "markdown",
   "metadata": {},
   "source": [
    "    T(1) = 0\n",
    "    T(n) = 2 T(n/2) + n\n",
    "    => T(n) \\in \\Theta(n \\log n)"
   ]
  },
  {
   "cell_type": "markdown",
   "metadata": {},
   "source": [
    "<img src=\"Screen_Shot_2015-11-10_at_5.38.30_AM.png\">"
   ]
  },
  {
   "cell_type": "markdown",
   "metadata": {},
   "source": [
    "#### Recap"
   ]
  },
  {
   "cell_type": "markdown",
   "metadata": {},
   "source": [
    "<img src=\"Screen_Shot_2015-11-10_at_5.42.37_AM.png\">"
   ]
  },
  {
   "cell_type": "markdown",
   "metadata": {
    "collapsed": true
   },
   "source": [
    "# Problem Set 2"
   ]
  },
  {
   "cell_type": "markdown",
   "metadata": {},
   "source": [
    "## Star Network"
   ]
  },
  {
   "cell_type": "markdown",
   "metadata": {},
   "source": [
    "A star network has a single node in the center that is connected to all the rest of the nodes in the graph.\n",
    "\n",
    "Python program that returns the number of edges in a star network with `n` nodes..."
   ]
  },
  {
   "cell_type": "code",
   "execution_count": 30,
   "metadata": {
    "collapsed": true
   },
   "outputs": [],
   "source": [
    "def star_network(n):\n",
    "    if n == 0 or n == 1:\n",
    "        return 0\n",
    "    return n-1"
   ]
  },
  {
   "cell_type": "code",
   "execution_count": 31,
   "metadata": {
    "collapsed": false
   },
   "outputs": [
    {
     "data": {
      "text/plain": [
       "[(0, 0),\n",
       " (1, 0),\n",
       " (2, 1),\n",
       " (3, 2),\n",
       " (4, 3),\n",
       " (5, 4),\n",
       " (6, 5),\n",
       " (7, 6),\n",
       " (8, 7),\n",
       " (9, 8)]"
      ]
     },
     "execution_count": 31,
     "metadata": {},
     "output_type": "execute_result"
    }
   ],
   "source": [
    "[(i, star_network(i)) for i in range(10)]"
   ]
  },
  {
   "cell_type": "markdown",
   "metadata": {
    "collapsed": true
   },
   "source": [
    "### Recurrence Relation"
   ]
  },
  {
   "cell_type": "markdown",
   "metadata": {},
   "source": [
    "Template for random graph:\n",
    "\n",
    "    def makeG(n):\n",
    "        if n == 1:\n",
    "            return <a single node>\n",
    "        g1 = makeG(n / 2)\n",
    "        g2 = makeG(n / 2)\n",
    "        for i in range(log(n)):\n",
    "            i1 = <random node from g1 w/o replacement>\n",
    "            i2 = <random node from g2 w/o replacement>\n",
    "            make_link(G, i1, i2)\n",
    "        return G"
   ]
  },
  {
   "cell_type": "markdown",
   "metadata": {},
   "source": [
    "Recurrence:\n",
    "\n",
    "    T(1) = 0\n",
    "    T(n) = 2 T(n / 2) + \\Theta(\\log n)"
   ]
  },
  {
   "cell_type": "code",
   "execution_count": 32,
   "metadata": {
    "collapsed": true
   },
   "outputs": [],
   "source": [
    "for i in range(0):\n",
    "    print i"
   ]
  },
  {
   "cell_type": "code",
   "execution_count": 33,
   "metadata": {
    "collapsed": false
   },
   "outputs": [
    {
     "name": "stdout",
     "output_type": "stream",
     "text": [
      "0\n"
     ]
    }
   ],
   "source": [
    "for i in range(1):\n",
    "    print i"
   ]
  },
  {
   "cell_type": "code",
   "execution_count": 34,
   "metadata": {
    "collapsed": false
   },
   "outputs": [
    {
     "name": "stdout",
     "output_type": "stream",
     "text": [
      "0\n"
     ]
    }
   ],
   "source": [
    "for i in range(int(1.1)):\n",
    "    print i"
   ]
  },
  {
   "cell_type": "code",
   "execution_count": 35,
   "metadata": {
    "collapsed": false
   },
   "outputs": [
    {
     "data": {
      "text/plain": [
       "1.0"
      ]
     },
     "execution_count": 35,
     "metadata": {},
     "output_type": "execute_result"
    }
   ],
   "source": [
    "math.log(2, 2)"
   ]
  },
  {
   "cell_type": "markdown",
   "metadata": {
    "collapsed": true
   },
   "source": [
    "The depth looks like `log n` and the connections per layer looks like `log n`, `2 * 1/2 * log n`, `4 * 1/4 * log n`, etc., so the recurrence relation looks like `(log n)^2`? "
   ]
  },
  {
   "cell_type": "code",
   "execution_count": null,
   "metadata": {
    "collapsed": true
   },
   "outputs": [],
   "source": []
  },
  {
   "cell_type": "markdown",
   "metadata": {},
   "source": [
    "### Subsets"
   ]
  },
  {
   "cell_type": "markdown",
   "metadata": {},
   "source": [
    "    X               Y              XcY   YcX   Both   Neither\n",
    "    ---------------------------------------------------------\n",
    "    star            tree            o\n",
    "    planar graph    tree                  o\n",
    "    tree            ring                                 o\n",
    "    ring            chain                                o\n",
    "    chain           tree            o\n",
    "    hypercube       ring                                 o\n",
    "    grid            chain                                o\n",
    "    planar graph    hypercube                            o"
   ]
  },
  {
   "cell_type": "markdown",
   "metadata": {},
   "source": [
    "Recall\n",
    "\n",
    "* star graphs are a central node with spokes\n",
    "* trees are connected with no cycles or loops\n",
    "* planar graphs may be drawn in a plane with no crossing edges\n",
    "* rings are loops\n",
    "* chains have `m` nodes and `m-1` edges (non-\"completing\" ring graphs)\n",
    "* hypercubes have `n` nodes where `n` is a power of 2, and every node has a label that is a bit pattern and connect to all nodes if their bit pattern differ in exactly one place.\n",
    "* grids are grids...\n",
    "\n",
    "From solutions:\n",
    "\n",
    "* not all planar graphs are trees, but all trees are planar graphs\n",
    "* rings must have cycles and trees cannot\n",
    "* edges in a chain is `nodes - 1`, edges in a ring must be equal to number of `nodes`\n",
    "* all cahins are trees, not all trees are chains\n",
    "* hypercubes are not rings in general, and rings are not hypercubes in general\n",
    "* all chains are grids, but not all grids are chains (`*-*-*` is a `1xn` grid and chain) "
   ]
  },
  {
   "cell_type": "code",
   "execution_count": null,
   "metadata": {
    "collapsed": true
   },
   "outputs": [],
   "source": []
  },
  {
   "cell_type": "markdown",
   "metadata": {},
   "source": [
    "\n",
    "\n",
    "### Function Comparison"
   ]
  },
  {
   "cell_type": "markdown",
   "metadata": {},
   "source": [
    "$4 n^2 + (\\log n)^7 + 9 n (\\log n)^2 + n^{2/3}$ is in $\\Theta()$ of what? - $n^2$ And it is $O()$ of what? The _smallest_ $O()$ of is $O(n^2)$, but, being in $O(n^2)$, it is also in $O(n^3)$, etc."
   ]
  },
  {
   "cell_type": "markdown",
   "metadata": {},
   "source": [
    "### Planar Graphs"
   ]
  },
  {
   "cell_type": "markdown",
   "metadata": {
    "collapsed": true
   },
   "source": [
    "If we draw a planar graph with 8 nodes and 15 edges, how many regions are there?"
   ]
  },
  {
   "cell_type": "markdown",
   "metadata": {},
   "source": [
    "For any planar graph, `n - m + r = 2`, so there are 9 regions."
   ]
  },
  {
   "cell_type": "markdown",
   "metadata": {},
   "source": [
    "### Combination Lock"
   ]
  },
  {
   "cell_type": "markdown",
   "metadata": {},
   "source": [
    "A \"combination lock\" is a graph on `n` nodes with edges in a chain and the edges in a star, with the left end of the chain as the center of the star.\n",
    "\n",
    "What is $\\Theta(n)$ for the number of edges?"
   ]
  },
  {
   "cell_type": "markdown",
   "metadata": {},
   "source": [
    "The formula for the number of edges is `2 * (n - 1)`, so this is $\\in \\Theta(n)$."
   ]
  },
  {
   "cell_type": "markdown",
   "metadata": {},
   "source": [
    "### Combination Lock, part II"
   ]
  },
  {
   "cell_type": "markdown",
   "metadata": {},
   "source": [
    "Write a Python program to create a combination lock given a list of nodes."
   ]
  },
  {
   "cell_type": "code",
   "execution_count": 1,
   "metadata": {
    "collapsed": true
   },
   "outputs": [],
   "source": [
    "def make_link(G, node1, node2):\n",
    "    if node1 not in G:\n",
    "        G[node1] = {}\n",
    "    (G[node1])[node2] = 1\n",
    "    if node2 not in G:\n",
    "        G[node2] = {}\n",
    "    (G[node2])[node1] = 1\n",
    "    return G"
   ]
  },
  {
   "cell_type": "code",
   "execution_count": 2,
   "metadata": {
    "collapsed": true
   },
   "outputs": [],
   "source": [
    "# testing code\n",
    "\n",
    "def is_chain(graph, nodes):\n",
    "    # find the first node with degree one\n",
    "    start = (n for n, e in graph.iteritems()\n",
    "             if len(e) == 1).next()\n",
    "    count = 1\n",
    "    # keep track of what we've seen to make\n",
    "    # sure there are no cycles\n",
    "    seen = set([start])\n",
    "    # follow the edges\n",
    "    prev = None\n",
    "    current = start\n",
    "    while True:\n",
    "        nexts = graph[current].keys()\n",
    "        # get rid of the edge back to prev\n",
    "        nexts = [n for n in nexts if not n == prev]\n",
    "        if len(nexts) > 1:\n",
    "            # bad.  too many edges to be a chain\n",
    "            return False\n",
    "        elif len(nexts) == 0:\n",
    "            # We're done following the chain\n",
    "            # Did we get enough edges:\n",
    "            return count == len(nodes)\n",
    "        prev = current\n",
    "        current = nexts[0]\n",
    "        if current in seen:\n",
    "            # bad.  this isn't a chain\n",
    "            # it has a loop\n",
    "            return False\n",
    "        seen.add(current)\n",
    "        count += 1\n",
    "\n",
    "def is_combo_lock(graph, nodes):\n",
    "    # first see if we have a star\n",
    "    center = None\n",
    "    degree = None\n",
    "    for node, edges in graph.iteritems():\n",
    "        if len(edges) > degree:\n",
    "            center = node\n",
    "            degree = len(edges)\n",
    "    if not degree == len(nodes) - 1:\n",
    "        return False\n",
    "    # make a graph out of all the edges\n",
    "    # not connected to the center\n",
    "    chain = {}\n",
    "    for node, edges in graph.iteritems():\n",
    "        if node == center:\n",
    "            continue\n",
    "        for e in edges:\n",
    "            if e == center:\n",
    "                continue\n",
    "            make_link(chain, node, e)\n",
    "    return is_chain(chain, [n for n in nodes if n != center])\n",
    "\n",
    "def test():\n",
    "    for n in [5, 10, 20]:\n",
    "        combo = create_combo_lock(range(n))\n",
    "        if not is_combo_lock(combo, range(n)):\n",
    "            return False\n",
    "    return True"
   ]
  },
  {
   "cell_type": "code",
   "execution_count": 3,
   "metadata": {
    "collapsed": false
   },
   "outputs": [
    {
     "name": "stdout",
     "output_type": "stream",
     "text": [
      "#!/usr/bin/env python\r\n",
      "\r\n",
      "from graph_utils import make_link\r\n",
      "\r\n",
      "\r\n",
      "def create_combo_lock(nodes):\r\n",
      "    G = {}\r\n",
      "    nnodes = len(nodes)\r\n",
      "    # first, make a chain graph\r\n",
      "    for i in range(nnodes - 1):\r\n",
      "        make_link(G, nodes[i], nodes[i + 1])\r\n",
      "    # second, add the star\r\n",
      "    for i in range(1, nnodes):\r\n",
      "        make_link(G, nodes[0], nodes[i])\r\n",
      "    return G\r\n",
      "\r\n",
      "\r\n",
      "def is_chain(graph, nodes):\r\n",
      "    # find the first node with degree one\r\n",
      "    # here, the list comprehension creates a generator object holding (if\r\n",
      "    # this is a chain) the first and last nodes; `.next()` gets the first\r\n",
      "    # item out of the generator\r\n",
      "    start = (n for n, e in graph.iteritems()\r\n",
      "             if len(e) == 1).next()\r\n",
      "    count = 1\r\n",
      "    # keep track of what we've seen to make\r\n",
      "    # sure there are no cycles\r\n",
      "    seen = set([start])\r\n",
      "    # follow the edges\r\n",
      "    prev = None\r\n",
      "    current = start\r\n",
      "    while True:\r\n",
      "        nexts = graph[current].keys()\r\n",
      "        # get rid of the edge back to prev\r\n",
      "        nexts = [n for n in nexts if not n == prev]\r\n",
      "        if len(nexts) > 1:\r\n",
      "            # bad.  too many edges to be a chain\r\n",
      "            return False\r\n",
      "        elif len(nexts) == 0:\r\n",
      "            # We're done following the chain\r\n",
      "            # Did we get enough edges:\r\n",
      "            return count == len(nodes)\r\n",
      "        prev = current\r\n",
      "        current = nexts[0]\r\n",
      "        if current in seen:\r\n",
      "            # bad.  this isn't a chain\r\n",
      "            # it has a loop\r\n",
      "            return False\r\n",
      "        seen.add(current)\r\n",
      "        count += 1\r\n",
      "\r\n",
      "\r\n",
      "def is_combo_lock(graph, nodes):\r\n",
      "    # first see if we have a star\r\n",
      "    center = None\r\n",
      "    degree = None\r\n",
      "    for node, edges in graph.iteritems():\r\n",
      "        if len(edges) > degree:\r\n",
      "            center = node\r\n",
      "            degree = len(edges)\r\n",
      "    if not degree == len(nodes) - 1:\r\n",
      "        return False\r\n",
      "    # make a graph out of all the edges\r\n",
      "    # not connected to the center\r\n",
      "    chain = {}\r\n",
      "    for node, edges in graph.iteritems():\r\n",
      "        if node == center:\r\n",
      "            continue\r\n",
      "        for e in edges:\r\n",
      "            if e == center:\r\n",
      "                continue\r\n",
      "            make_link(chain, node, e)\r\n",
      "    return is_chain(chain, [n for n in nodes if n != center])\r\n",
      "\r\n",
      "\r\n",
      "def test():\r\n",
      "    for n in [5, 10, 20]:\r\n",
      "        combo = create_combo_lock(range(n))\r\n",
      "        if not is_combo_lock(combo, range(n)):\r\n",
      "            return False\r\n",
      "    return True\r\n"
     ]
    }
   ],
   "source": [
    "cat combo_lock_graphy.py"
   ]
  },
  {
   "cell_type": "markdown",
   "metadata": {},
   "source": [
    "### Erdos-Renyi"
   ]
  },
  {
   "cell_type": "markdown",
   "metadata": {},
   "source": [
    "Imagine generating an Erdos-Renyi graph with n=256 and p=0.25. On average, how many edges will it have?"
   ]
  },
  {
   "cell_type": "markdown",
   "metadata": {},
   "source": [
    "If there are 256 nodes, there are \n",
    "\n",
    "\\begin{equation}\n",
    "n = \\frac{256 \\times 255}{2} = 32,640\n",
    "\\end{equation}\n",
    "\n",
    "_pairs_ of nodes. If there is a 0.25% chance of making a connection, we expect \n",
    "\n",
    "\\begin{equation}\n",
    "\\bar{x} = \\frac{256 \\times 255}{2} \\times 0.25 = 8,160\n",
    "\\end{equation}\n",
    "\n",
    "edges on average."
   ]
  },
  {
   "cell_type": "code",
   "execution_count": 40,
   "metadata": {
    "collapsed": false
   },
   "outputs": [
    {
     "data": {
      "text/plain": [
       "32640"
      ]
     },
     "execution_count": 40,
     "metadata": {},
     "output_type": "execute_result"
    }
   ],
   "source": [
    "256*255/2"
   ]
  },
  {
   "cell_type": "code",
   "execution_count": 41,
   "metadata": {
    "collapsed": false
   },
   "outputs": [
    {
     "data": {
      "text/plain": [
       "8160.0"
      ]
     },
     "execution_count": 41,
     "metadata": {},
     "output_type": "execute_result"
    }
   ],
   "source": [
    "256*255/2/4.0"
   ]
  },
  {
   "cell_type": "code",
   "execution_count": null,
   "metadata": {
    "collapsed": true
   },
   "outputs": [],
   "source": []
  }
 ],
 "metadata": {
  "kernelspec": {
   "display_name": "Python 2",
   "language": "python",
   "name": "python2"
  },
  "language_info": {
   "codemirror_mode": {
    "name": "ipython",
    "version": 2
   },
   "file_extension": ".py",
   "mimetype": "text/x-python",
   "name": "python",
   "nbconvert_exporter": "python",
   "pygments_lexer": "ipython2",
   "version": "2.7.10"
  }
 },
 "nbformat": 4,
 "nbformat_minor": 0
}
